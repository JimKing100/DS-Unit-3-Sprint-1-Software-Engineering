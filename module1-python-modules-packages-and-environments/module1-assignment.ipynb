{
  "nbformat": 4,
  "nbformat_minor": 0,
  "metadata": {
    "colab": {
      "name": "Copy of Untitled31.ipynb",
      "provenance": [],
      "include_colab_link": true
    },
    "kernelspec": {
      "name": "python3",
      "display_name": "Python 3"
    }
  },
  "cells": [
    {
      "cell_type": "markdown",
      "metadata": {
        "id": "view-in-github",
        "colab_type": "text"
      },
      "source": [
        "<a href=\"https://colab.research.google.com/github/JimKing100/DS-Unit-3-Sprint-1-Software-Engineering/blob/master/module1-python-modules-packages-and-environments/module1-assignment.ipynb\" target=\"_parent\"><img src=\"https://colab.research.google.com/assets/colab-badge.svg\" alt=\"Open In Colab\"/></a>"
      ]
    },
    {
      "cell_type": "code",
      "metadata": {
        "id": "einGn0z3kIVa",
        "colab_type": "code",
        "outputId": "6e7d74f4-25db-41f1-eed2-e232807b80df",
        "colab": {
          "base_uri": "https://localhost:8080/",
          "height": 34
        }
      },
      "source": [
        "!pip uninstall ds_helper"
      ],
      "execution_count": 0,
      "outputs": [
        {
          "output_type": "stream",
          "text": [
            "\u001b[33mWARNING: Skipping ds-helper as it is not installed.\u001b[0m\n"
          ],
          "name": "stdout"
        }
      ]
    },
    {
      "cell_type": "code",
      "metadata": {
        "id": "MaLEcN9w4CH2",
        "colab_type": "code",
        "outputId": "f0f487e6-986a-40e8-ea22-2c10cdc573da",
        "colab": {
          "base_uri": "https://localhost:8080/",
          "height": 207
        }
      },
      "source": [
        "!pip install --index-url https://test.pypi.org/simple/ ds_helper"
      ],
      "execution_count": 0,
      "outputs": [
        {
          "output_type": "stream",
          "text": [
            "Looking in indexes: https://test.pypi.org/simple/\n",
            "Collecting ds_helper\n",
            "  Downloading https://test-files.pythonhosted.org/packages/5c/1b/f2423ab27da647c75281fcc5a7ee5b88406eb8d6cd3c8ec2bf1c43f998a7/ds_helper-0.1.8-py3-none-any.whl\n",
            "Requirement already satisfied: pandas in /usr/local/lib/python3.6/dist-packages (from ds_helper) (0.25.2)\n",
            "Requirement already satisfied: numpy in /usr/local/lib/python3.6/dist-packages (from ds_helper) (1.17.3)\n",
            "Requirement already satisfied: python-dateutil>=2.6.1 in /usr/local/lib/python3.6/dist-packages (from pandas->ds_helper) (2.6.1)\n",
            "Requirement already satisfied: pytz>=2017.2 in /usr/local/lib/python3.6/dist-packages (from pandas->ds_helper) (2018.9)\n",
            "Requirement already satisfied: six>=1.5 in /usr/local/lib/python3.6/dist-packages (from python-dateutil>=2.6.1->pandas->ds_helper) (1.12.0)\n",
            "Installing collected packages: ds-helper\n",
            "Successfully installed ds-helper-0.1.8\n"
          ],
          "name": "stdout"
        }
      ]
    },
    {
      "cell_type": "code",
      "metadata": {
        "id": "vg-tDhep3kKS",
        "colab_type": "code",
        "colab": {}
      },
      "source": [
        "#import ds_helper_data as ds\n",
        "#import ds_helper_data.df_utils\n",
        "\n",
        "#ds.df_utils.TEST_DF"
      ],
      "execution_count": 0,
      "outputs": []
    },
    {
      "cell_type": "code",
      "metadata": {
        "id": "DHyWCnnEHQKF",
        "colab_type": "code",
        "outputId": "53797262-b521-430c-db72-dcfb2e9fdf91",
        "colab": {
          "base_uri": "https://localhost:8080/",
          "height": 142
        }
      },
      "source": [
        "from ds_helper_data import df_utils\n",
        "\n",
        "df_utils.TEST_DF"
      ],
      "execution_count": 0,
      "outputs": [
        {
          "output_type": "execute_result",
          "data": {
            "text/html": [
              "<div>\n",
              "<style scoped>\n",
              "    .dataframe tbody tr th:only-of-type {\n",
              "        vertical-align: middle;\n",
              "    }\n",
              "\n",
              "    .dataframe tbody tr th {\n",
              "        vertical-align: top;\n",
              "    }\n",
              "\n",
              "    .dataframe thead th {\n",
              "        text-align: right;\n",
              "    }\n",
              "</style>\n",
              "<table border=\"1\" class=\"dataframe\">\n",
              "  <thead>\n",
              "    <tr style=\"text-align: right;\">\n",
              "      <th></th>\n",
              "      <th>0</th>\n",
              "    </tr>\n",
              "  </thead>\n",
              "  <tbody>\n",
              "    <tr>\n",
              "      <th>0</th>\n",
              "      <td>1</td>\n",
              "    </tr>\n",
              "    <tr>\n",
              "      <th>1</th>\n",
              "      <td>2</td>\n",
              "    </tr>\n",
              "    <tr>\n",
              "      <th>2</th>\n",
              "      <td>3</td>\n",
              "    </tr>\n",
              "  </tbody>\n",
              "</table>\n",
              "</div>"
            ],
            "text/plain": [
              "   0\n",
              "0  1\n",
              "1  2\n",
              "2  3"
            ]
          },
          "metadata": {
            "tags": []
          },
          "execution_count": 3
        }
      ]
    },
    {
      "cell_type": "code",
      "metadata": {
        "id": "PMM1kBKbImQS",
        "colab_type": "code",
        "colab": {}
      },
      "source": [
        "import pandas as pd"
      ],
      "execution_count": 0,
      "outputs": []
    },
    {
      "cell_type": "code",
      "metadata": {
        "id": "rOEaN7_kJtKc",
        "colab_type": "code",
        "outputId": "5c433c46-8ca6-4b7b-aa14-fd938d0c9e2a",
        "colab": {
          "base_uri": "https://localhost:8080/",
          "height": 204
        }
      },
      "source": [
        "df = pd.read_csv('https://raw.githubusercontent.com/JimKing100/DS-Unit-3-Sprint-1-Software-Engineering/master/module1-python-modules-packages-and-environments/drink_test.csv')\n",
        "\n",
        "df.head()"
      ],
      "execution_count": 0,
      "outputs": [
        {
          "output_type": "execute_result",
          "data": {
            "text/html": [
              "<div>\n",
              "<style scoped>\n",
              "    .dataframe tbody tr th:only-of-type {\n",
              "        vertical-align: middle;\n",
              "    }\n",
              "\n",
              "    .dataframe tbody tr th {\n",
              "        vertical-align: top;\n",
              "    }\n",
              "\n",
              "    .dataframe thead th {\n",
              "        text-align: right;\n",
              "    }\n",
              "</style>\n",
              "<table border=\"1\" class=\"dataframe\">\n",
              "  <thead>\n",
              "    <tr style=\"text-align: right;\">\n",
              "      <th></th>\n",
              "      <th>country</th>\n",
              "      <th>beer_servings</th>\n",
              "      <th>spirit_servings</th>\n",
              "      <th>wine_servings</th>\n",
              "      <th>total_litres_of_pure_alcohol</th>\n",
              "      <th>region</th>\n",
              "      <th>sub-region</th>\n",
              "    </tr>\n",
              "  </thead>\n",
              "  <tbody>\n",
              "    <tr>\n",
              "      <th>0</th>\n",
              "      <td>Afghanistan</td>\n",
              "      <td>0</td>\n",
              "      <td>0</td>\n",
              "      <td>0</td>\n",
              "      <td>0.0</td>\n",
              "      <td>Asia</td>\n",
              "      <td>Southern Asia</td>\n",
              "    </tr>\n",
              "    <tr>\n",
              "      <th>1</th>\n",
              "      <td>Albania</td>\n",
              "      <td>89</td>\n",
              "      <td>132</td>\n",
              "      <td>54</td>\n",
              "      <td>4.9</td>\n",
              "      <td>Europe</td>\n",
              "      <td>Southern Europe</td>\n",
              "    </tr>\n",
              "    <tr>\n",
              "      <th>2</th>\n",
              "      <td>Algeria</td>\n",
              "      <td>25</td>\n",
              "      <td>0</td>\n",
              "      <td>14</td>\n",
              "      <td>0.7</td>\n",
              "      <td>Africa</td>\n",
              "      <td>Northern Africa</td>\n",
              "    </tr>\n",
              "    <tr>\n",
              "      <th>3</th>\n",
              "      <td>Andorra</td>\n",
              "      <td>245</td>\n",
              "      <td>138</td>\n",
              "      <td>312</td>\n",
              "      <td>12.4</td>\n",
              "      <td>Europe</td>\n",
              "      <td>Southern Europe</td>\n",
              "    </tr>\n",
              "    <tr>\n",
              "      <th>4</th>\n",
              "      <td>Angola</td>\n",
              "      <td>217</td>\n",
              "      <td>57</td>\n",
              "      <td>45</td>\n",
              "      <td>5.9</td>\n",
              "      <td>Africa</td>\n",
              "      <td>Sub-Saharan Africa</td>\n",
              "    </tr>\n",
              "  </tbody>\n",
              "</table>\n",
              "</div>"
            ],
            "text/plain": [
              "       country  beer_servings  ...  region          sub-region\n",
              "0  Afghanistan              0  ...    Asia       Southern Asia\n",
              "1      Albania             89  ...  Europe     Southern Europe\n",
              "2      Algeria             25  ...  Africa     Northern Africa\n",
              "3      Andorra            245  ...  Europe     Southern Europe\n",
              "4       Angola            217  ...  Africa  Sub-Saharan Africa\n",
              "\n",
              "[5 rows x 7 columns]"
            ]
          },
          "metadata": {
            "tags": []
          },
          "execution_count": 5
        }
      ]
    },
    {
      "cell_type": "code",
      "metadata": {
        "id": "4LDkrD6sMNej",
        "colab_type": "code",
        "outputId": "c8d7af7a-c9dd-48b5-a464-1cc18ca49758",
        "colab": {
          "base_uri": "https://localhost:8080/",
          "height": 153
        }
      },
      "source": [
        "def nulls(df):\n",
        "  columns = list(df)\n",
        "  col_num = 0\n",
        "  print('Nulls by Column')\n",
        "\n",
        "  for i in columns:\n",
        "    print(columns[col_num], df[i].isna().sum())\n",
        "    col_num = col_num + 1\n",
        "    \n",
        "nulls(df)"
      ],
      "execution_count": 0,
      "outputs": [
        {
          "output_type": "stream",
          "text": [
            "Nulls by Column\n",
            "country 0\n",
            "beer_servings 0\n",
            "spirit_servings 0\n",
            "wine_servings 0\n",
            "total_litres_of_pure_alcohol 0\n",
            "region 26\n",
            "sub-region 26\n"
          ],
          "name": "stdout"
        }
      ]
    },
    {
      "cell_type": "code",
      "metadata": {
        "id": "k_p1KqLnjmYF",
        "colab_type": "code",
        "outputId": "a23b0be6-d133-4970-cc21-51d6ef148c38",
        "colab": {
          "base_uri": "https://localhost:8080/",
          "height": 153
        }
      },
      "source": [
        "df_utils.nulls(df)"
      ],
      "execution_count": 0,
      "outputs": [
        {
          "output_type": "stream",
          "text": [
            "Nulls by Column\n",
            "country 0\n",
            "beer_servings 0\n",
            "spirit_servings 0\n",
            "wine_servings 0\n",
            "total_litres_of_pure_alcohol 0\n",
            "region 26\n",
            "sub-region 26\n"
          ],
          "name": "stdout"
        }
      ]
    },
    {
      "cell_type": "code",
      "metadata": {
        "id": "PcqNvGd-p1PH",
        "colab_type": "code",
        "outputId": "80540605-d9ba-40fc-d9ba-6bab31999e50",
        "colab": {
          "base_uri": "https://localhost:8080/",
          "height": 306
        }
      },
      "source": [
        "df = pd.read_csv('https://raw.githubusercontent.com/JimKing100/DS-Unit-3-Sprint-1-Software-Engineering/master/module1-python-modules-packages-and-environments/MarinSalesJanJune2019.csv')\n",
        "\n",
        "df.head()"
      ],
      "execution_count": 0,
      "outputs": [
        {
          "output_type": "execute_result",
          "data": {
            "text/html": [
              "<div>\n",
              "<style scoped>\n",
              "    .dataframe tbody tr th:only-of-type {\n",
              "        vertical-align: middle;\n",
              "    }\n",
              "\n",
              "    .dataframe tbody tr th {\n",
              "        vertical-align: top;\n",
              "    }\n",
              "\n",
              "    .dataframe thead th {\n",
              "        text-align: right;\n",
              "    }\n",
              "</style>\n",
              "<table border=\"1\" class=\"dataframe\">\n",
              "  <thead>\n",
              "    <tr style=\"text-align: right;\">\n",
              "      <th></th>\n",
              "      <th>ML Number Display</th>\n",
              "      <th>Area Display</th>\n",
              "      <th>Street Full Address</th>\n",
              "      <th>Property Type</th>\n",
              "      <th>Property Subtype 1 Display</th>\n",
              "      <th>Listing Date</th>\n",
              "      <th>Status Date</th>\n",
              "      <th>Status Display</th>\n",
              "      <th>Listing Price</th>\n",
              "      <th>Selling Price</th>\n",
              "    </tr>\n",
              "  </thead>\n",
              "  <tbody>\n",
              "    <tr>\n",
              "      <th>0</th>\n",
              "      <td>21911291</td>\n",
              "      <td>Fairfax</td>\n",
              "      <td>107 Spruce Rd, Fairfax, CA 94930-1571</td>\n",
              "      <td>RESI</td>\n",
              "      <td>Single Family</td>\n",
              "      <td>5/8/19</td>\n",
              "      <td>6/25/19</td>\n",
              "      <td>Sold</td>\n",
              "      <td>775,000</td>\n",
              "      <td>760,000</td>\n",
              "    </tr>\n",
              "    <tr>\n",
              "      <th>1</th>\n",
              "      <td>21830231</td>\n",
              "      <td>Fairfax</td>\n",
              "      <td>71 Spruce Rd, Fairfax, CA 94930-1541</td>\n",
              "      <td>RESI</td>\n",
              "      <td>Single Family</td>\n",
              "      <td>12/2/18</td>\n",
              "      <td>1/18/19</td>\n",
              "      <td>Sold</td>\n",
              "      <td>799,000</td>\n",
              "      <td>823,000</td>\n",
              "    </tr>\n",
              "    <tr>\n",
              "      <th>2</th>\n",
              "      <td>21906144</td>\n",
              "      <td>Fairfax</td>\n",
              "      <td>51 Ridge Rd, Fairfax, CA 94930-1920</td>\n",
              "      <td>RESI</td>\n",
              "      <td>Single Family</td>\n",
              "      <td>10/29/18</td>\n",
              "      <td>5/13/19</td>\n",
              "      <td>Sold</td>\n",
              "      <td>1,849,000</td>\n",
              "      <td>1,900,000</td>\n",
              "    </tr>\n",
              "    <tr>\n",
              "      <th>3</th>\n",
              "      <td>21911033</td>\n",
              "      <td>Fairfax</td>\n",
              "      <td>34 Bothin Rd, Fairfax, CA 94930-1403</td>\n",
              "      <td>RESI</td>\n",
              "      <td>Single Family</td>\n",
              "      <td>4/29/19</td>\n",
              "      <td>6/28/19</td>\n",
              "      <td>Sold</td>\n",
              "      <td>1,997,000</td>\n",
              "      <td>1,980,000</td>\n",
              "    </tr>\n",
              "    <tr>\n",
              "      <th>4</th>\n",
              "      <td>21900528</td>\n",
              "      <td>Fairfax</td>\n",
              "      <td>5 Hawthorne Ct, Fairfax, CA 94930-1414</td>\n",
              "      <td>RESI</td>\n",
              "      <td>Single Family</td>\n",
              "      <td>1/9/19</td>\n",
              "      <td>2/15/19</td>\n",
              "      <td>Sold</td>\n",
              "      <td>1,199,000</td>\n",
              "      <td>1,210,000</td>\n",
              "    </tr>\n",
              "  </tbody>\n",
              "</table>\n",
              "</div>"
            ],
            "text/plain": [
              "   ML Number Display Area Display  ... Listing Price Selling Price\n",
              "0           21911291      Fairfax  ...       775,000       760,000\n",
              "1           21830231      Fairfax  ...       799,000       823,000\n",
              "2           21906144      Fairfax  ...     1,849,000     1,900,000\n",
              "3           21911033      Fairfax  ...     1,997,000     1,980,000\n",
              "4           21900528      Fairfax  ...     1,199,000     1,210,000\n",
              "\n",
              "[5 rows x 10 columns]"
            ]
          },
          "metadata": {
            "tags": []
          },
          "execution_count": 8
        }
      ]
    },
    {
      "cell_type": "code",
      "metadata": {
        "id": "xjwxVDzSqNRV",
        "colab_type": "code",
        "colab": {}
      },
      "source": [
        "# from datetime import datetime\n",
        "\n",
        "# def date_conv(df, col):\n",
        "#   df[col] = pd.to_datetime(df[col], infer_datetime_format=True)\n",
        "#   col_year = col + '_year'\n",
        "#   col_month = col + '_month'\n",
        "#   col_day = col + '_day'\n",
        "#   df[col_year] = df[col].dt.year\n",
        "#   df[col_month] = df[col].dt.month\n",
        "#   df[col_day] = df[col].dt.day\n",
        "#   return df\n",
        "  \n",
        "# df = date_conv(df, 'Listing Date')\n",
        "\n",
        "# df.head()"
      ],
      "execution_count": 0,
      "outputs": []
    },
    {
      "cell_type": "code",
      "metadata": {
        "id": "MieE9C-fLJAL",
        "colab_type": "code",
        "outputId": "ec1664d1-4955-4709-d357-e089da25bf73",
        "colab": {
          "base_uri": "https://localhost:8080/",
          "height": 649
        }
      },
      "source": [
        "df_utils.date_conv(df, 'Listing Date')\n",
        "\n",
        "df.head()"
      ],
      "execution_count": 0,
      "outputs": [
        {
          "output_type": "execute_result",
          "data": {
            "text/html": [
              "<div>\n",
              "<style scoped>\n",
              "    .dataframe tbody tr th:only-of-type {\n",
              "        vertical-align: middle;\n",
              "    }\n",
              "\n",
              "    .dataframe tbody tr th {\n",
              "        vertical-align: top;\n",
              "    }\n",
              "\n",
              "    .dataframe thead th {\n",
              "        text-align: right;\n",
              "    }\n",
              "</style>\n",
              "<table border=\"1\" class=\"dataframe\">\n",
              "  <thead>\n",
              "    <tr style=\"text-align: right;\">\n",
              "      <th></th>\n",
              "      <th>ML Number Display</th>\n",
              "      <th>Area Display</th>\n",
              "      <th>Street Full Address</th>\n",
              "      <th>Property Type</th>\n",
              "      <th>Property Subtype 1 Display</th>\n",
              "      <th>Listing Date</th>\n",
              "      <th>Status Date</th>\n",
              "      <th>Status Display</th>\n",
              "      <th>Listing Price</th>\n",
              "      <th>Selling Price</th>\n",
              "      <th>Listing Date_year</th>\n",
              "      <th>Listing Date_month</th>\n",
              "      <th>Listing Date_day</th>\n",
              "    </tr>\n",
              "  </thead>\n",
              "  <tbody>\n",
              "    <tr>\n",
              "      <th>0</th>\n",
              "      <td>21911291</td>\n",
              "      <td>Fairfax</td>\n",
              "      <td>107 Spruce Rd, Fairfax, CA 94930-1571</td>\n",
              "      <td>RESI</td>\n",
              "      <td>Single Family</td>\n",
              "      <td>2019-05-08</td>\n",
              "      <td>6/25/19</td>\n",
              "      <td>Sold</td>\n",
              "      <td>775,000</td>\n",
              "      <td>760,000</td>\n",
              "      <td>2019</td>\n",
              "      <td>5</td>\n",
              "      <td>8</td>\n",
              "    </tr>\n",
              "    <tr>\n",
              "      <th>1</th>\n",
              "      <td>21830231</td>\n",
              "      <td>Fairfax</td>\n",
              "      <td>71 Spruce Rd, Fairfax, CA 94930-1541</td>\n",
              "      <td>RESI</td>\n",
              "      <td>Single Family</td>\n",
              "      <td>2018-12-02</td>\n",
              "      <td>1/18/19</td>\n",
              "      <td>Sold</td>\n",
              "      <td>799,000</td>\n",
              "      <td>823,000</td>\n",
              "      <td>2018</td>\n",
              "      <td>12</td>\n",
              "      <td>2</td>\n",
              "    </tr>\n",
              "    <tr>\n",
              "      <th>2</th>\n",
              "      <td>21906144</td>\n",
              "      <td>Fairfax</td>\n",
              "      <td>51 Ridge Rd, Fairfax, CA 94930-1920</td>\n",
              "      <td>RESI</td>\n",
              "      <td>Single Family</td>\n",
              "      <td>2018-10-29</td>\n",
              "      <td>5/13/19</td>\n",
              "      <td>Sold</td>\n",
              "      <td>1,849,000</td>\n",
              "      <td>1,900,000</td>\n",
              "      <td>2018</td>\n",
              "      <td>10</td>\n",
              "      <td>29</td>\n",
              "    </tr>\n",
              "    <tr>\n",
              "      <th>3</th>\n",
              "      <td>21911033</td>\n",
              "      <td>Fairfax</td>\n",
              "      <td>34 Bothin Rd, Fairfax, CA 94930-1403</td>\n",
              "      <td>RESI</td>\n",
              "      <td>Single Family</td>\n",
              "      <td>2019-04-29</td>\n",
              "      <td>6/28/19</td>\n",
              "      <td>Sold</td>\n",
              "      <td>1,997,000</td>\n",
              "      <td>1,980,000</td>\n",
              "      <td>2019</td>\n",
              "      <td>4</td>\n",
              "      <td>29</td>\n",
              "    </tr>\n",
              "    <tr>\n",
              "      <th>4</th>\n",
              "      <td>21900528</td>\n",
              "      <td>Fairfax</td>\n",
              "      <td>5 Hawthorne Ct, Fairfax, CA 94930-1414</td>\n",
              "      <td>RESI</td>\n",
              "      <td>Single Family</td>\n",
              "      <td>2019-01-09</td>\n",
              "      <td>2/15/19</td>\n",
              "      <td>Sold</td>\n",
              "      <td>1,199,000</td>\n",
              "      <td>1,210,000</td>\n",
              "      <td>2019</td>\n",
              "      <td>1</td>\n",
              "      <td>9</td>\n",
              "    </tr>\n",
              "  </tbody>\n",
              "</table>\n",
              "</div>"
            ],
            "text/plain": [
              "   ML Number Display Area Display  ... Listing Date_month Listing Date_day\n",
              "0           21911291      Fairfax  ...                  5                8\n",
              "1           21830231      Fairfax  ...                 12                2\n",
              "2           21906144      Fairfax  ...                 10               29\n",
              "3           21911033      Fairfax  ...                  4               29\n",
              "4           21900528      Fairfax  ...                  1                9\n",
              "\n",
              "[5 rows x 13 columns]"
            ]
          },
          "metadata": {
            "tags": []
          },
          "execution_count": 9
        }
      ]
    },
    {
      "cell_type": "code",
      "metadata": {
        "id": "rgNLg7EJv96I",
        "colab_type": "code",
        "outputId": "bfab7f69-f889-4707-bfaa-902f7aac1035",
        "colab": {
          "base_uri": "https://localhost:8080/",
          "height": 34
        }
      },
      "source": [
        "def state_conv(st_abbrev):\n",
        "\n",
        "  us_state_abbrev = {\n",
        "    'Alabama': 'AL',\n",
        "    'Alaska': 'AK',\n",
        "    'Arizona': 'AZ',\n",
        "    'Arkansas': 'AR',\n",
        "    'California': 'CA',\n",
        "    'Colorado': 'CO',\n",
        "    'Connecticut': 'CT',\n",
        "    'Delaware': 'DE',\n",
        "    'District of Columbia': 'DC',\n",
        "    'Florida': 'FL',\n",
        "    'Georgia': 'GA',\n",
        "    'Hawaii': 'HI',\n",
        "    'Idaho': 'ID',\n",
        "    'Illinois': 'IL',\n",
        "    'Indiana': 'IN',\n",
        "    'Iowa': 'IA',\n",
        "    'Kansas': 'KS',\n",
        "    'Kentucky': 'KY',\n",
        "    'Louisiana': 'LA',\n",
        "    'Maine': 'ME',\n",
        "    'Maryland': 'MD',\n",
        "    'Massachusetts': 'MA',\n",
        "    'Michigan': 'MI',\n",
        "    'Minnesota': 'MN',\n",
        "    'Mississippi': 'MS',\n",
        "    'Missouri': 'MO',\n",
        "    'Montana': 'MT',\n",
        "    'Nebraska': 'NE',\n",
        "    'Nevada': 'NV',\n",
        "    'New Hampshire': 'NH',\n",
        "    'New Jersey': 'NJ',\n",
        "    'New Mexico': 'NM',\n",
        "    'New York': 'NY',\n",
        "    'North Carolina': 'NC',\n",
        "    'North Dakota': 'ND',\n",
        "    'Northern Mariana Islands':'MP',\n",
        "    'Ohio': 'OH',\n",
        "    'Oklahoma': 'OK',\n",
        "    'Oregon': 'OR',\n",
        "    'Palau': 'PW',\n",
        "    'Pennsylvania': 'PA',\n",
        "    'Puerto Rico': 'PR',\n",
        "    'Rhode Island': 'RI',\n",
        "    'South Carolina': 'SC',\n",
        "    'South Dakota': 'SD',\n",
        "    'Tennessee': 'TN',\n",
        "    'Texas': 'TX',\n",
        "    'Utah': 'UT',\n",
        "    'Vermont': 'VT',\n",
        "    'Virgin Islands': 'VI',\n",
        "    'Virginia': 'VA',\n",
        "    'Washington': 'WA',\n",
        "    'West Virginia': 'WV',\n",
        "    'Wisconsin': 'WI',\n",
        "    'Wyoming': 'WY',\n",
        "  }\n",
        "\n",
        "  abbrev_us_state = dict(map(reversed, us_state_abbrev.items()))\n",
        "\n",
        "  if len(st_abbrev) == 2:\n",
        "    try:\n",
        "      return_value = abbrev_us_state[st_abbrev]\n",
        "    except KeyError:\n",
        "      return_value = \"NA\"\n",
        "  else:\n",
        "    try:\n",
        "      return_value = us_state_abbrev[st_abbrev]\n",
        "    except KeyError:\n",
        "      return_value = \"NA\" \n",
        "\n",
        "  return return_value\n",
        "\n",
        "print(state_conv('WX'))\n",
        "\n"
      ],
      "execution_count": 0,
      "outputs": [
        {
          "output_type": "stream",
          "text": [
            "NA\n"
          ],
          "name": "stdout"
        }
      ]
    },
    {
      "cell_type": "code",
      "metadata": {
        "id": "ptQTFqLbVzIs",
        "colab_type": "code",
        "outputId": "7f90a2b7-5c60-46b0-de64-9a181758afb0",
        "colab": {
          "base_uri": "https://localhost:8080/",
          "height": 34
        }
      },
      "source": [
        "print(df_utils.state_conv('Washington'))"
      ],
      "execution_count": 0,
      "outputs": [
        {
          "output_type": "stream",
          "text": [
            "WA\n"
          ],
          "name": "stdout"
        }
      ]
    }
  ]
}