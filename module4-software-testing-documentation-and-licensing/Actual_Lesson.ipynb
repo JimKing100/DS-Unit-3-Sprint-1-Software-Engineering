{
  "nbformat": 4,
  "nbformat_minor": 0,
  "metadata": {
    "colab": {
      "name": "IntroOOP.ipynb",
      "provenance": [],
      "collapsed_sections": [],
      "include_colab_link": true
    },
    "kernelspec": {
      "name": "python3",
      "display_name": "Python 3"
    }
  },
  "cells": [
    {
      "cell_type": "markdown",
      "metadata": {
        "id": "view-in-github",
        "colab_type": "text"
      },
      "source": [
        "<a href=\"https://colab.research.google.com/github/JimKing100/DS-Unit-3-Sprint-1-Software-Engineering/blob/master/module4-software-testing-documentation-and-licensing/Actual_Lesson\" target=\"_parent\"><img src=\"https://colab.research.google.com/assets/colab-badge.svg\" alt=\"Open In Colab\"/></a>"
      ]
    },
    {
      "cell_type": "code",
      "metadata": {
        "id": "lsAHmg2MmYxa",
        "colab_type": "code",
        "outputId": "83b6ac14-921e-40db-adee-3da50affc2d7",
        "colab": {
          "base_uri": "https://localhost:8080/",
          "height": 35
        }
      },
      "source": [
        "isinstance(1, object)"
      ],
      "execution_count": 0,
      "outputs": [
        {
          "output_type": "execute_result",
          "data": {
            "text/plain": [
              "True"
            ]
          },
          "metadata": {
            "tags": []
          },
          "execution_count": 1
        }
      ]
    },
    {
      "cell_type": "code",
      "metadata": {
        "id": "IeVwr_O3xjX5",
        "colab_type": "code",
        "outputId": "b58be622-219a-4299-8278-289946d4827e",
        "colab": {
          "base_uri": "https://localhost:8080/",
          "height": 35
        }
      },
      "source": [
        "isinstance(1.1, object)"
      ],
      "execution_count": 0,
      "outputs": [
        {
          "output_type": "execute_result",
          "data": {
            "text/plain": [
              "True"
            ]
          },
          "metadata": {
            "tags": []
          },
          "execution_count": 2
        }
      ]
    },
    {
      "cell_type": "code",
      "metadata": {
        "id": "2Xd7roa2xmfR",
        "colab_type": "code",
        "outputId": "d1936274-9200-43fb-dac1-1fffb2171aaf",
        "colab": {
          "base_uri": "https://localhost:8080/",
          "height": 35
        }
      },
      "source": [
        "isinstance('my_str', object)"
      ],
      "execution_count": 0,
      "outputs": [
        {
          "output_type": "execute_result",
          "data": {
            "text/plain": [
              "True"
            ]
          },
          "metadata": {
            "tags": []
          },
          "execution_count": 3
        }
      ]
    },
    {
      "cell_type": "code",
      "metadata": {
        "id": "GjUlWdjAxoQd",
        "colab_type": "code",
        "colab": {}
      },
      "source": [
        "def add(a,b):\n",
        "  return a+b"
      ],
      "execution_count": 0,
      "outputs": []
    },
    {
      "cell_type": "code",
      "metadata": {
        "id": "8jFH3HhIxr40",
        "colab_type": "code",
        "outputId": "001a8174-41da-4981-83d2-5875581e356c",
        "colab": {
          "base_uri": "https://localhost:8080/",
          "height": 35
        }
      },
      "source": [
        "isinstance(add, object)"
      ],
      "execution_count": 0,
      "outputs": [
        {
          "output_type": "execute_result",
          "data": {
            "text/plain": [
              "True"
            ]
          },
          "metadata": {
            "tags": []
          },
          "execution_count": 5
        }
      ]
    },
    {
      "cell_type": "code",
      "metadata": {
        "id": "FthTeFO0xtmP",
        "colab_type": "code",
        "colab": {}
      },
      "source": [
        "class Animal:\n",
        "  pass"
      ],
      "execution_count": 0,
      "outputs": []
    },
    {
      "cell_type": "code",
      "metadata": {
        "id": "UQYnPpL6x84w",
        "colab_type": "code",
        "colab": {}
      },
      "source": [
        "my_animal = Animal()"
      ],
      "execution_count": 0,
      "outputs": []
    },
    {
      "cell_type": "code",
      "metadata": {
        "id": "t998tCGSyA7X",
        "colab_type": "code",
        "outputId": "c8a1da69-60bc-4e35-c597-cbfe8290d60e",
        "colab": {
          "base_uri": "https://localhost:8080/",
          "height": 35
        }
      },
      "source": [
        "isinstance(my_animal, object)"
      ],
      "execution_count": 0,
      "outputs": [
        {
          "output_type": "execute_result",
          "data": {
            "text/plain": [
              "True"
            ]
          },
          "metadata": {
            "tags": []
          },
          "execution_count": 9
        }
      ]
    },
    {
      "cell_type": "code",
      "metadata": {
        "id": "LIFw9-TXyB2M",
        "colab_type": "code",
        "outputId": "6fabdd17-9357-4850-bd7c-3a6f0b8d7bfb",
        "colab": {
          "base_uri": "https://localhost:8080/",
          "height": 35
        }
      },
      "source": [
        "isinstance(my_animal, Animal)"
      ],
      "execution_count": 0,
      "outputs": [
        {
          "output_type": "execute_result",
          "data": {
            "text/plain": [
              "True"
            ]
          },
          "metadata": {
            "tags": []
          },
          "execution_count": 10
        }
      ]
    },
    {
      "cell_type": "code",
      "metadata": {
        "id": "pOl5AInzyZz_",
        "colab_type": "code",
        "outputId": "45d6ea46-aa20-461c-bd74-159a1bae628b",
        "colab": {
          "base_uri": "https://localhost:8080/",
          "height": 489
        }
      },
      "source": [
        "dir(my_animal)"
      ],
      "execution_count": 0,
      "outputs": [
        {
          "output_type": "execute_result",
          "data": {
            "text/plain": [
              "['__class__',\n",
              " '__delattr__',\n",
              " '__dict__',\n",
              " '__dir__',\n",
              " '__doc__',\n",
              " '__eq__',\n",
              " '__format__',\n",
              " '__ge__',\n",
              " '__getattribute__',\n",
              " '__gt__',\n",
              " '__hash__',\n",
              " '__init__',\n",
              " '__init_subclass__',\n",
              " '__le__',\n",
              " '__lt__',\n",
              " '__module__',\n",
              " '__ne__',\n",
              " '__new__',\n",
              " '__reduce__',\n",
              " '__reduce_ex__',\n",
              " '__repr__',\n",
              " '__setattr__',\n",
              " '__sizeof__',\n",
              " '__str__',\n",
              " '__subclasshook__',\n",
              " '__weakref__']"
            ]
          },
          "metadata": {
            "tags": []
          },
          "execution_count": 12
        }
      ]
    },
    {
      "cell_type": "code",
      "metadata": {
        "id": "KwsMbbdsyi95",
        "colab_type": "code",
        "colab": {}
      },
      "source": [
        "class Animal:\n",
        "  def __init__(self, age):\n",
        "    self.age = age"
      ],
      "execution_count": 0,
      "outputs": []
    },
    {
      "cell_type": "code",
      "metadata": {
        "id": "xt4gnivpzIsx",
        "colab_type": "code",
        "colab": {}
      },
      "source": [
        "my_animal = Animal(3)"
      ],
      "execution_count": 0,
      "outputs": []
    },
    {
      "cell_type": "code",
      "metadata": {
        "id": "N4uJc540zMpM",
        "colab_type": "code",
        "outputId": "86d60a43-1150-48b5-ce27-a5e96a3454c0",
        "colab": {
          "base_uri": "https://localhost:8080/",
          "height": 35
        }
      },
      "source": [
        "my_animal.age"
      ],
      "execution_count": 0,
      "outputs": [
        {
          "output_type": "execute_result",
          "data": {
            "text/plain": [
              "3"
            ]
          },
          "metadata": {
            "tags": []
          },
          "execution_count": 15
        }
      ]
    },
    {
      "cell_type": "code",
      "metadata": {
        "id": "-wsEejL8zPVt",
        "colab_type": "code",
        "outputId": "dd875407-6668-432f-ad95-fb26bcea93ca",
        "colab": {
          "base_uri": "https://localhost:8080/",
          "height": 507
        }
      },
      "source": [
        "dir(my_animal)"
      ],
      "execution_count": 0,
      "outputs": [
        {
          "output_type": "execute_result",
          "data": {
            "text/plain": [
              "['__class__',\n",
              " '__delattr__',\n",
              " '__dict__',\n",
              " '__dir__',\n",
              " '__doc__',\n",
              " '__eq__',\n",
              " '__format__',\n",
              " '__ge__',\n",
              " '__getattribute__',\n",
              " '__gt__',\n",
              " '__hash__',\n",
              " '__init__',\n",
              " '__init_subclass__',\n",
              " '__le__',\n",
              " '__lt__',\n",
              " '__module__',\n",
              " '__ne__',\n",
              " '__new__',\n",
              " '__reduce__',\n",
              " '__reduce_ex__',\n",
              " '__repr__',\n",
              " '__setattr__',\n",
              " '__sizeof__',\n",
              " '__str__',\n",
              " '__subclasshook__',\n",
              " '__weakref__',\n",
              " 'age']"
            ]
          },
          "metadata": {
            "tags": []
          },
          "execution_count": 16
        }
      ]
    },
    {
      "cell_type": "code",
      "metadata": {
        "id": "gT59yOmOzSUQ",
        "colab_type": "code",
        "outputId": "20c14017-9884-4d82-de77-0057281e297a",
        "colab": {
          "base_uri": "https://localhost:8080/",
          "height": 35
        }
      },
      "source": [
        "my_other_animal = Animal(4)\n",
        "my_other_animal.age"
      ],
      "execution_count": 0,
      "outputs": [
        {
          "output_type": "execute_result",
          "data": {
            "text/plain": [
              "4"
            ]
          },
          "metadata": {
            "tags": []
          },
          "execution_count": 17
        }
      ]
    },
    {
      "cell_type": "code",
      "metadata": {
        "id": "766MTBzvzgpf",
        "colab_type": "code",
        "outputId": "a694315e-4db8-4171-c363-ab24a905d779",
        "colab": {
          "base_uri": "https://localhost:8080/",
          "height": 35
        }
      },
      "source": [
        "my_other_animal"
      ],
      "execution_count": 0,
      "outputs": [
        {
          "output_type": "execute_result",
          "data": {
            "text/plain": [
              "<__main__.Animal at 0x7f67e21e4a90>"
            ]
          },
          "metadata": {
            "tags": []
          },
          "execution_count": 18
        }
      ]
    },
    {
      "cell_type": "code",
      "metadata": {
        "id": "mFAWan9vzjeE",
        "colab_type": "code",
        "outputId": "f5139e75-c374-403a-832b-e9ea74b4afaa",
        "colab": {
          "base_uri": "https://localhost:8080/",
          "height": 35
        }
      },
      "source": [
        "my_animal"
      ],
      "execution_count": 0,
      "outputs": [
        {
          "output_type": "execute_result",
          "data": {
            "text/plain": [
              "<__main__.Animal at 0x7f67e21e4240>"
            ]
          },
          "metadata": {
            "tags": []
          },
          "execution_count": 19
        }
      ]
    },
    {
      "cell_type": "code",
      "metadata": {
        "id": "deVBa-IyztT0",
        "colab_type": "code",
        "colab": {}
      },
      "source": [
        "class Animal:\n",
        "  def __init__(self, age):\n",
        "    self.age = age\n",
        "\n",
        "  def __repr__(self):\n",
        "    return f'Animal(age={self.age})'\n",
        "\n",
        "  def __str__(self):\n",
        "    return f\"This is an animal that's {self.age} old\""
      ],
      "execution_count": 0,
      "outputs": []
    },
    {
      "cell_type": "code",
      "metadata": {
        "id": "8_Qr0HR40Y5k",
        "colab_type": "code",
        "colab": {}
      },
      "source": [
        "my_animal = Animal(3)"
      ],
      "execution_count": 0,
      "outputs": []
    },
    {
      "cell_type": "code",
      "metadata": {
        "id": "kaX8y8RY0lnL",
        "colab_type": "code",
        "outputId": "9be99439-1869-4b47-dc99-de41a36d633d",
        "colab": {
          "base_uri": "https://localhost:8080/",
          "height": 35
        }
      },
      "source": [
        "my_animal"
      ],
      "execution_count": 0,
      "outputs": [
        {
          "output_type": "execute_result",
          "data": {
            "text/plain": [
              "Animal(age=3)"
            ]
          },
          "metadata": {
            "tags": []
          },
          "execution_count": 26
        }
      ]
    },
    {
      "cell_type": "code",
      "metadata": {
        "id": "fYeIz7j20mbB",
        "colab_type": "code",
        "outputId": "33467141-56ad-440e-b06f-fa020114ef13",
        "colab": {
          "base_uri": "https://localhost:8080/",
          "height": 35
        }
      },
      "source": [
        "str(my_animal)"
      ],
      "execution_count": 0,
      "outputs": [
        {
          "output_type": "execute_result",
          "data": {
            "text/plain": [
              "\"This is an animal that's 3 old\""
            ]
          },
          "metadata": {
            "tags": []
          },
          "execution_count": 27
        }
      ]
    },
    {
      "cell_type": "code",
      "metadata": {
        "id": "X7EBsygR0q-F",
        "colab_type": "code",
        "colab": {}
      },
      "source": [
        "class Animal:\n",
        "  def __init__(self, age):\n",
        "    self.age = age\n",
        "\n",
        "  def __repr__(self):\n",
        "    return f'Animal(age={self.age})'\n",
        "\n",
        "  def __str__(self):\n",
        "    return f\"This is an animal that's {self.age} old\"\n",
        "\n",
        "  def age_next_year(self):\n",
        "    return self.age + 1"
      ],
      "execution_count": 0,
      "outputs": []
    },
    {
      "cell_type": "code",
      "metadata": {
        "id": "T0bE-Wr71g40",
        "colab_type": "code",
        "outputId": "63e177e5-f8b7-48a6-d3ac-294e8fa2bf53",
        "colab": {
          "base_uri": "https://localhost:8080/",
          "height": 35
        }
      },
      "source": [
        "my_animal = Animal(5)\n",
        "my_animal"
      ],
      "execution_count": 0,
      "outputs": [
        {
          "output_type": "execute_result",
          "data": {
            "text/plain": [
              "Animal(age=5)"
            ]
          },
          "metadata": {
            "tags": []
          },
          "execution_count": 29
        }
      ]
    },
    {
      "cell_type": "code",
      "metadata": {
        "id": "OuQFILKG1lLV",
        "colab_type": "code",
        "outputId": "98aa1ecd-bf70-43f1-ceb3-c9a453b1d146",
        "colab": {
          "base_uri": "https://localhost:8080/",
          "height": 35
        }
      },
      "source": [
        "my_animal.age_next_year()"
      ],
      "execution_count": 0,
      "outputs": [
        {
          "output_type": "execute_result",
          "data": {
            "text/plain": [
              "6"
            ]
          },
          "metadata": {
            "tags": []
          },
          "execution_count": 30
        }
      ]
    },
    {
      "cell_type": "code",
      "metadata": {
        "id": "rFWLezf51n1R",
        "colab_type": "code",
        "outputId": "5b8fb9ce-d243-4693-9330-d15e18f1d317",
        "colab": {
          "base_uri": "https://localhost:8080/",
          "height": 35
        }
      },
      "source": [
        "my_animal.age"
      ],
      "execution_count": 0,
      "outputs": [
        {
          "output_type": "execute_result",
          "data": {
            "text/plain": [
              "5"
            ]
          },
          "metadata": {
            "tags": []
          },
          "execution_count": 31
        }
      ]
    },
    {
      "cell_type": "code",
      "metadata": {
        "id": "ZfLCNrco1pS5",
        "colab_type": "code",
        "colab": {}
      },
      "source": [
        "class Animal:\n",
        "  def __init__(self, age):\n",
        "    self.age = age\n",
        "\n",
        "  def __repr__(self):\n",
        "    return f'Animal(age={self.age})'\n",
        "\n",
        "  def __str__(self):\n",
        "    return f\"This is an animal that's {self.age} old\"\n",
        "\n",
        "  def age_next_year(self):\n",
        "    return self.age + 1\n",
        "\n",
        "  def add_one_year(self):\n",
        "    self.age = self.age + 1"
      ],
      "execution_count": 0,
      "outputs": []
    },
    {
      "cell_type": "code",
      "metadata": {
        "id": "PlWGazGd2JLd",
        "colab_type": "code",
        "colab": {}
      },
      "source": [
        "my_animal = Animal(5)"
      ],
      "execution_count": 0,
      "outputs": []
    },
    {
      "cell_type": "code",
      "metadata": {
        "id": "dCzyehii2LFz",
        "colab_type": "code",
        "outputId": "05b610ca-5937-44a9-d6a5-9cb5bab7cd04",
        "colab": {
          "base_uri": "https://localhost:8080/",
          "height": 35
        }
      },
      "source": [
        "my_animal.age"
      ],
      "execution_count": 0,
      "outputs": [
        {
          "output_type": "execute_result",
          "data": {
            "text/plain": [
              "5"
            ]
          },
          "metadata": {
            "tags": []
          },
          "execution_count": 34
        }
      ]
    },
    {
      "cell_type": "code",
      "metadata": {
        "id": "6Zz2SFw_2Mc9",
        "colab_type": "code",
        "colab": {}
      },
      "source": [
        "my_animal.add_one_year()"
      ],
      "execution_count": 0,
      "outputs": []
    },
    {
      "cell_type": "code",
      "metadata": {
        "id": "i2XHofMB2OPb",
        "colab_type": "code",
        "outputId": "2196736e-17f4-4ee1-eb40-a3557dc92052",
        "colab": {
          "base_uri": "https://localhost:8080/",
          "height": 35
        }
      },
      "source": [
        "my_animal.age"
      ],
      "execution_count": 0,
      "outputs": [
        {
          "output_type": "execute_result",
          "data": {
            "text/plain": [
              "6"
            ]
          },
          "metadata": {
            "tags": []
          },
          "execution_count": 36
        }
      ]
    },
    {
      "cell_type": "code",
      "metadata": {
        "id": "XF3scTiZ2PX8",
        "colab_type": "code",
        "colab": {}
      },
      "source": [
        "class Animal:\n",
        "  def __init__(self, age):\n",
        "    self.age = age\n",
        "\n",
        "  def __repr__(self):\n",
        "    return f'Animal(age={self.age})'\n",
        "\n",
        "  def __str__(self):\n",
        "    return f\"This is an animal that's {self.age} old\"\n",
        "\n",
        "  def age_next_year(self):\n",
        "    return self.age + 1\n",
        "\n",
        "  def add_one_year(self):\n",
        "    self.age = self.age + 1\n",
        "\n",
        "  def get_weight(self):\n",
        "    self.weight = 10"
      ],
      "execution_count": 0,
      "outputs": []
    },
    {
      "cell_type": "code",
      "metadata": {
        "id": "c9v9PHA22q96",
        "colab_type": "code",
        "colab": {}
      },
      "source": [
        "my_animal = Animal(10)"
      ],
      "execution_count": 0,
      "outputs": []
    },
    {
      "cell_type": "code",
      "metadata": {
        "id": "6aHdGOnF2uBJ",
        "colab_type": "code",
        "colab": {}
      },
      "source": [
        "my_animal.get_weight()"
      ],
      "execution_count": 0,
      "outputs": []
    },
    {
      "cell_type": "code",
      "metadata": {
        "id": "1aXnfKPw2vKJ",
        "colab_type": "code",
        "outputId": "78afbcc1-9c93-4c9f-e67f-b980761acdeb",
        "colab": {
          "base_uri": "https://localhost:8080/",
          "height": 35
        }
      },
      "source": [
        "my_animal.weight"
      ],
      "execution_count": 0,
      "outputs": [
        {
          "output_type": "execute_result",
          "data": {
            "text/plain": [
              "10"
            ]
          },
          "metadata": {
            "tags": []
          },
          "execution_count": 47
        }
      ]
    },
    {
      "cell_type": "markdown",
      "metadata": {
        "id": "FvLTgnWi3GNF",
        "colab_type": "text"
      },
      "source": [
        "# Inheritance"
      ]
    },
    {
      "cell_type": "code",
      "metadata": {
        "id": "j40aSoB83Je3",
        "colab_type": "code",
        "colab": {}
      },
      "source": [
        "class Animal:\n",
        "  def __init__(self, age):\n",
        "    self.age = age\n",
        "\n",
        "  def __repr__(self):\n",
        "    return f'Animal(age={self.age})'\n",
        "\n",
        "  def __str__(self):\n",
        "    return f\"This is an animal that's {self.age} old\"\n",
        "\n",
        "  def age_next_year(self):\n",
        "    return self.age + 1\n",
        "\n",
        "  def add_one_year(self):\n",
        "    self.age = self.age + 1"
      ],
      "execution_count": 0,
      "outputs": []
    },
    {
      "cell_type": "code",
      "metadata": {
        "id": "-KHdgLGB3MXf",
        "colab_type": "code",
        "colab": {}
      },
      "source": [
        "class Dog(Animal):\n",
        "  num_legs = 4\n",
        "  def __repr__(self):\n",
        "    return f'Dog(age={self.age})'\n",
        "\n",
        "  def __str__(self):\n",
        "    return f\"This is an dog that's {self.age} old\"\n",
        "\n",
        "  def bark(self):\n",
        "    print('woof-woof')\n",
        "\n",
        "\n",
        "class Fish(Animal):\n",
        "    def __repr__(self):\n",
        "      return f'Fish(age={self.age})'\n",
        "\n",
        "    def __str__(self):\n",
        "      return f\"This is an fish that's {self.age} old\"\n",
        "\n",
        "    def swim(self):\n",
        "      print('swimming')"
      ],
      "execution_count": 0,
      "outputs": []
    },
    {
      "cell_type": "code",
      "metadata": {
        "id": "dzUgDNSt3y2u",
        "colab_type": "code",
        "outputId": "301bb13c-d470-4508-e5fb-340e5305a25e",
        "colab": {
          "base_uri": "https://localhost:8080/",
          "height": 35
        }
      },
      "source": [
        "my_dog = Dog(5)\n",
        "my_dog"
      ],
      "execution_count": 0,
      "outputs": [
        {
          "output_type": "execute_result",
          "data": {
            "text/plain": [
              "Dog(age=5)"
            ]
          },
          "metadata": {
            "tags": []
          },
          "execution_count": 55
        }
      ]
    },
    {
      "cell_type": "code",
      "metadata": {
        "id": "mGeFL-yP34Js",
        "colab_type": "code",
        "outputId": "8e80f38e-7257-4b54-8a22-f8a1e82d49c1",
        "colab": {
          "base_uri": "https://localhost:8080/",
          "height": 35
        }
      },
      "source": [
        "str(my_dog)"
      ],
      "execution_count": 0,
      "outputs": [
        {
          "output_type": "execute_result",
          "data": {
            "text/plain": [
              "\"This is an dog that's 5 old\""
            ]
          },
          "metadata": {
            "tags": []
          },
          "execution_count": 56
        }
      ]
    },
    {
      "cell_type": "code",
      "metadata": {
        "id": "2cAaAs9G37ti",
        "colab_type": "code",
        "outputId": "64a3491b-a043-40c4-d397-cf0a0b309290",
        "colab": {
          "base_uri": "https://localhost:8080/",
          "height": 35
        }
      },
      "source": [
        "my_fish = Fish(2)\n",
        "my_fish.swim()"
      ],
      "execution_count": 0,
      "outputs": [
        {
          "output_type": "stream",
          "text": [
            "swimming\n"
          ],
          "name": "stdout"
        }
      ]
    },
    {
      "cell_type": "code",
      "metadata": {
        "id": "ETEZYa124Qdv",
        "colab_type": "code",
        "outputId": "fdb9cb52-27d6-4e24-9b55-91e629a95d03",
        "colab": {
          "base_uri": "https://localhost:8080/",
          "height": 35
        }
      },
      "source": [
        "my_dog.age_next_year()"
      ],
      "execution_count": 0,
      "outputs": [
        {
          "output_type": "execute_result",
          "data": {
            "text/plain": [
              "6"
            ]
          },
          "metadata": {
            "tags": []
          },
          "execution_count": 58
        }
      ]
    },
    {
      "cell_type": "code",
      "metadata": {
        "id": "tcnZJayo4ZcQ",
        "colab_type": "code",
        "colab": {}
      },
      "source": [
        "class Dog(Animal):\n",
        "  num_legs = 4\n",
        "  def __repr__(self):\n",
        "    return f'Dog(age={self.age})'\n",
        "\n",
        "  def __str__(self):\n",
        "    return f\"This is an dog that's {self.age} old\"\n",
        "\n",
        "  def bark(self):\n",
        "    print('woof-woof')\n",
        "\n",
        "  def is_puppy(self):\n",
        "    if self.age <= 1:\n",
        "      return True\n",
        "    else:\n",
        "      return False"
      ],
      "execution_count": 0,
      "outputs": []
    },
    {
      "cell_type": "code",
      "metadata": {
        "id": "agQoXz_B415z",
        "colab_type": "code",
        "colab": {}
      },
      "source": [
        "my_dog = Dog(0.5)"
      ],
      "execution_count": 0,
      "outputs": []
    },
    {
      "cell_type": "code",
      "metadata": {
        "id": "gVurQ-d145-1",
        "colab_type": "code",
        "outputId": "e99c8c49-0bd3-496c-e443-cf03f72d4991",
        "colab": {
          "base_uri": "https://localhost:8080/",
          "height": 35
        }
      },
      "source": [
        "my_dog.is_puppy()"
      ],
      "execution_count": 0,
      "outputs": [
        {
          "output_type": "execute_result",
          "data": {
            "text/plain": [
              "True"
            ]
          },
          "metadata": {
            "tags": []
          },
          "execution_count": 61
        }
      ]
    },
    {
      "cell_type": "code",
      "metadata": {
        "id": "pZ0hh6aV47n2",
        "colab_type": "code",
        "colab": {}
      },
      "source": [
        "my_dog.add_one_year()"
      ],
      "execution_count": 0,
      "outputs": []
    },
    {
      "cell_type": "code",
      "metadata": {
        "id": "jjXLZpow499v",
        "colab_type": "code",
        "outputId": "3660f126-6016-4059-eeca-710656fffc60",
        "colab": {
          "base_uri": "https://localhost:8080/",
          "height": 35
        }
      },
      "source": [
        "my_dog.is_puppy()"
      ],
      "execution_count": 0,
      "outputs": [
        {
          "output_type": "execute_result",
          "data": {
            "text/plain": [
              "False"
            ]
          },
          "metadata": {
            "tags": []
          },
          "execution_count": 63
        }
      ]
    },
    {
      "cell_type": "code",
      "metadata": {
        "id": "7STqzoER5CPI",
        "colab_type": "code",
        "outputId": "4c22fc31-e1b8-41ac-cc3a-dd49e2ff278c",
        "colab": {
          "base_uri": "https://localhost:8080/",
          "height": 35
        }
      },
      "source": [
        "my_dog.age"
      ],
      "execution_count": 0,
      "outputs": [
        {
          "output_type": "execute_result",
          "data": {
            "text/plain": [
              "1.5"
            ]
          },
          "metadata": {
            "tags": []
          },
          "execution_count": 64
        }
      ]
    },
    {
      "cell_type": "code",
      "metadata": {
        "id": "J0dQDjhv5ZZJ",
        "colab_type": "code",
        "outputId": "5a6aa98e-920f-41c7-baca-fe9f89d10e10",
        "colab": {
          "base_uri": "https://localhost:8080/",
          "height": 35
        }
      },
      "source": [
        "my_dog.num_legs"
      ],
      "execution_count": 0,
      "outputs": [
        {
          "output_type": "execute_result",
          "data": {
            "text/plain": [
              "4"
            ]
          },
          "metadata": {
            "tags": []
          },
          "execution_count": 65
        }
      ]
    },
    {
      "cell_type": "code",
      "metadata": {
        "id": "HTyIvFHU5bi0",
        "colab_type": "code",
        "outputId": "c9b04220-2868-427a-b265-8248c81c8a33",
        "colab": {
          "base_uri": "https://localhost:8080/",
          "height": 35
        }
      },
      "source": [
        "Dog.num_legs"
      ],
      "execution_count": 0,
      "outputs": [
        {
          "output_type": "execute_result",
          "data": {
            "text/plain": [
              "4"
            ]
          },
          "metadata": {
            "tags": []
          },
          "execution_count": 66
        }
      ]
    },
    {
      "cell_type": "code",
      "metadata": {
        "id": "1jUtlLfo6kav",
        "colab_type": "code",
        "outputId": "b47d3462-7bda-467e-96b2-00d756c77d15",
        "colab": {
          "base_uri": "https://localhost:8080/",
          "height": 35
        }
      },
      "source": [
        "import datetime\n",
        "\n",
        "datetime.datetime.now()"
      ],
      "execution_count": 0,
      "outputs": [
        {
          "output_type": "execute_result",
          "data": {
            "text/plain": [
              "datetime.datetime(2019, 11, 1, 3, 3, 25, 685486)"
            ]
          },
          "metadata": {
            "tags": []
          },
          "execution_count": 70
        }
      ]
    },
    {
      "cell_type": "code",
      "metadata": {
        "id": "p62M6qNq5DYB",
        "colab_type": "code",
        "colab": {}
      },
      "source": [
        "class Dog(Animal):\n",
        "  num_legs = 4\n",
        "  \n",
        "  def __init__(self, age, weight):\n",
        "    super().__init__(age)\n",
        "    self.weight = weight\n",
        "\n",
        "  def bark(self):\n",
        "    print('woof-woof')\n",
        "\n",
        "  def is_puppy(self):\n",
        "    if self.age <= 1:\n",
        "      return True\n",
        "    else:\n",
        "      return False\n",
        "\n",
        "  def eat(self):\n",
        "    self.last_time_fed = datetime.datetime.now()\n",
        "    self.weight = 1.01*self.weight \n",
        "\n",
        "  def get_time_last_fed(self):\n",
        "    time_sec_since_last_time_fed = (datetime.datetime.now() - self.last_time_fed).total_seconds()\n",
        "    return time_sec_since_last_time_fed\n",
        "\n",
        "  def is_hungry(self):\n",
        "    if self.get_time_last_fed() > 10: # seconds\n",
        "      return True\n",
        "    else:\n",
        "      return False\n",
        "\n",
        "  def __repr__(self):\n",
        "    return f'Dog(age={self.age}, weight={self.weight})'\n",
        "\n",
        "  def __str__(self):\n",
        "    return f\"This is an dog that's {self.age} old\""
      ],
      "execution_count": 0,
      "outputs": []
    },
    {
      "cell_type": "code",
      "metadata": {
        "id": "hkwWOaPX7tWz",
        "colab_type": "code",
        "outputId": "72360b4a-384a-4321-f0ec-4dd18fb2b533",
        "colab": {
          "base_uri": "https://localhost:8080/",
          "height": 35
        }
      },
      "source": [
        "my_dog = Dog(age=3, weight=50)\n",
        "my_dog"
      ],
      "execution_count": 0,
      "outputs": [
        {
          "output_type": "execute_result",
          "data": {
            "text/plain": [
              "Dog(age=3, weight=50)"
            ]
          },
          "metadata": {
            "tags": []
          },
          "execution_count": 75
        }
      ]
    },
    {
      "cell_type": "code",
      "metadata": {
        "id": "ngDJAtFT73jG",
        "colab_type": "code",
        "colab": {}
      },
      "source": [
        "my_dog.eat()"
      ],
      "execution_count": 0,
      "outputs": []
    },
    {
      "cell_type": "code",
      "metadata": {
        "id": "LbmqAarW8BxC",
        "colab_type": "code",
        "outputId": "c35e5a87-e047-4d91-c44a-123ce04cfd38",
        "colab": {
          "base_uri": "https://localhost:8080/",
          "height": 35
        }
      },
      "source": [
        "my_dog.get_time_last_fed()"
      ],
      "execution_count": 0,
      "outputs": [
        {
          "output_type": "execute_result",
          "data": {
            "text/plain": [
              "15.532996"
            ]
          },
          "metadata": {
            "tags": []
          },
          "execution_count": 80
        }
      ]
    },
    {
      "cell_type": "code",
      "metadata": {
        "id": "Dw7Q6jJm8I7W",
        "colab_type": "code",
        "outputId": "9ee73f94-16b5-405f-a568-91c02692baff",
        "colab": {
          "base_uri": "https://localhost:8080/",
          "height": 35
        }
      },
      "source": [
        "my_dog.is_hungry()"
      ],
      "execution_count": 0,
      "outputs": [
        {
          "output_type": "execute_result",
          "data": {
            "text/plain": [
              "True"
            ]
          },
          "metadata": {
            "tags": []
          },
          "execution_count": 81
        }
      ]
    },
    {
      "cell_type": "code",
      "metadata": {
        "id": "yllmzVUK8NRy",
        "colab_type": "code",
        "colab": {}
      },
      "source": [
        "my_dog.eat()"
      ],
      "execution_count": 0,
      "outputs": []
    },
    {
      "cell_type": "code",
      "metadata": {
        "id": "JGcg0E0F8OY4",
        "colab_type": "code",
        "outputId": "f205a041-329c-4fe8-b6cb-4c93a21beacb",
        "colab": {
          "base_uri": "https://localhost:8080/",
          "height": 35
        }
      },
      "source": [
        "my_dog.is_hungry()"
      ],
      "execution_count": 0,
      "outputs": [
        {
          "output_type": "execute_result",
          "data": {
            "text/plain": [
              "True"
            ]
          },
          "metadata": {
            "tags": []
          },
          "execution_count": 84
        }
      ]
    },
    {
      "cell_type": "code",
      "metadata": {
        "id": "idUg-PIs8PA8",
        "colab_type": "code",
        "colab": {}
      },
      "source": [
        "class Dog(Animal):\n",
        "  num_legs = 4\n",
        "  \n",
        "  def __init__(self, age, weight):\n",
        "    super().__init__(age)\n",
        "    self.weight = weight\n",
        "\n",
        "  def bark(self):\n",
        "    print('woof-woof')\n",
        "\n",
        "  def is_puppy(self):\n",
        "    if self.age <= 1:\n",
        "      return True\n",
        "    else:\n",
        "      return False\n",
        "\n",
        "  def eat(self):\n",
        "    self.last_time_fed = datetime.datetime.now()\n",
        "    self.weight = 1.01*self.weight \n",
        "\n",
        "  def get_time_last_fed(self):\n",
        "    time_sec_since_last_time_fed = (datetime.datetime.now() - self.last_time_fed).total_seconds()\n",
        "    return time_sec_since_last_time_fed\n",
        "\n",
        "  def is_hungry(self):\n",
        "    if self.get_time_last_fed() > 10: # seconds\n",
        "      return True\n",
        "    else:\n",
        "      return False\n",
        "\n",
        "  def __repr__(self):\n",
        "    return f'Dog(age={self.age}, weight={self.weight})'\n",
        "\n",
        "  def __str__(self):\n",
        "    return f\"This is an dog that's {self.age} old\"\n",
        "\n",
        "  def __eq__(self, other):\n",
        "    return (self.age == other.age) and (self.weight == other.weight)\n",
        "\n",
        "  def __lt__(self, other):\n",
        "    return self.weight < other.weight\n",
        "\n"
      ],
      "execution_count": 0,
      "outputs": []
    },
    {
      "cell_type": "code",
      "metadata": {
        "id": "rQDrugGd-oI3",
        "colab_type": "code",
        "colab": {}
      },
      "source": [
        "my_dog = Dog(3, 50)\n",
        "my_other_dog = Dog(3, 51)"
      ],
      "execution_count": 0,
      "outputs": []
    },
    {
      "cell_type": "code",
      "metadata": {
        "id": "CB4vZR1X_B1p",
        "colab_type": "code",
        "outputId": "a87827ff-fcaa-4e08-d7e6-090cf4281720",
        "colab": {
          "base_uri": "https://localhost:8080/",
          "height": 35
        }
      },
      "source": [
        "my_dog == my_other_dog"
      ],
      "execution_count": 0,
      "outputs": [
        {
          "output_type": "execute_result",
          "data": {
            "text/plain": [
              "False"
            ]
          },
          "metadata": {
            "tags": []
          },
          "execution_count": 101
        }
      ]
    },
    {
      "cell_type": "code",
      "metadata": {
        "id": "C9bdEDR7_FJV",
        "colab_type": "code",
        "outputId": "59b39713-db17-4307-bb83-6306d48b47c0",
        "colab": {
          "base_uri": "https://localhost:8080/",
          "height": 35
        }
      },
      "source": [
        "my_dog > my_other_dog"
      ],
      "execution_count": 0,
      "outputs": [
        {
          "output_type": "execute_result",
          "data": {
            "text/plain": [
              "False"
            ]
          },
          "metadata": {
            "tags": []
          },
          "execution_count": 102
        }
      ]
    }
  ]
}
