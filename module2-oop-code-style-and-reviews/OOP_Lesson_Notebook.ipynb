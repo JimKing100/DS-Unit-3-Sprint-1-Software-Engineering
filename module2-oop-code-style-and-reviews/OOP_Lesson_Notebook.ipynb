{
  "nbformat": 4,
  "nbformat_minor": 0,
  "metadata": {
    "colab": {
      "name": "Untitled37.ipynb",
      "provenance": [],
      "include_colab_link": true
    },
    "kernelspec": {
      "name": "python3",
      "display_name": "Python 3"
    }
  },
  "cells": [
    {
      "cell_type": "markdown",
      "metadata": {
        "id": "view-in-github",
        "colab_type": "text"
      },
      "source": [
        "<a href=\"https://colab.research.google.com/github/JimKing100/DS-Unit-3-Sprint-1-Software-Engineering/blob/master/module2-oop-code-style-and-reviews/OOP_Lesson_Notebook.ipynb\" target=\"_parent\"><img src=\"https://colab.research.google.com/assets/colab-badge.svg\" alt=\"Open In Colab\"/></a>"
      ]
    },
    {
      "cell_type": "markdown",
      "metadata": {
        "id": "ffBCOaCC4kj3",
        "colab_type": "text"
      },
      "source": [
        "### Everything in Python is an Object"
      ]
    },
    {
      "cell_type": "code",
      "metadata": {
        "id": "Gfz1qYXn382l",
        "colab_type": "code",
        "colab": {
          "base_uri": "https://localhost:8080/",
          "height": 34
        },
        "outputId": "d5658b06-ddd0-4aac-c9e8-029466fb8eaa"
      },
      "source": [
        "isinstance(1, object)"
      ],
      "execution_count": 1,
      "outputs": [
        {
          "output_type": "execute_result",
          "data": {
            "text/plain": [
              "True"
            ]
          },
          "metadata": {
            "tags": []
          },
          "execution_count": 1
        }
      ]
    },
    {
      "cell_type": "code",
      "metadata": {
        "id": "8rUuXPUT4Mit",
        "colab_type": "code",
        "colab": {
          "base_uri": "https://localhost:8080/",
          "height": 34
        },
        "outputId": "e52a7c71-1575-45e2-a771-e3d2943efbc3"
      },
      "source": [
        "isinstance('my_str', object)"
      ],
      "execution_count": 2,
      "outputs": [
        {
          "output_type": "execute_result",
          "data": {
            "text/plain": [
              "True"
            ]
          },
          "metadata": {
            "tags": []
          },
          "execution_count": 2
        }
      ]
    },
    {
      "cell_type": "code",
      "metadata": {
        "id": "CpR_S_si4UVX",
        "colab_type": "code",
        "colab": {}
      },
      "source": [
        "def add(a, b):\n",
        "  return a+b"
      ],
      "execution_count": 0,
      "outputs": []
    },
    {
      "cell_type": "code",
      "metadata": {
        "id": "0JfTXL4N4bu6",
        "colab_type": "code",
        "colab": {
          "base_uri": "https://localhost:8080/",
          "height": 34
        },
        "outputId": "1231d714-a24f-48a7-a7ce-02589d0f4011"
      },
      "source": [
        "isinstance(add, object)"
      ],
      "execution_count": 4,
      "outputs": [
        {
          "output_type": "execute_result",
          "data": {
            "text/plain": [
              "True"
            ]
          },
          "metadata": {
            "tags": []
          },
          "execution_count": 4
        }
      ]
    },
    {
      "cell_type": "markdown",
      "metadata": {
        "id": "fHPaezL54rXS",
        "colab_type": "text"
      },
      "source": [
        "### Build an Object Using Class"
      ]
    },
    {
      "cell_type": "code",
      "metadata": {
        "id": "8sibhmqD4wE7",
        "colab_type": "code",
        "colab": {}
      },
      "source": [
        "# create a class\n",
        "class Animal:\n",
        "  pass"
      ],
      "execution_count": 0,
      "outputs": []
    },
    {
      "cell_type": "code",
      "metadata": {
        "id": "ehV-0pGD5M3e",
        "colab_type": "code",
        "colab": {}
      },
      "source": [
        "# create an instance of the class\n",
        "my_animal = Animal()"
      ],
      "execution_count": 0,
      "outputs": []
    },
    {
      "cell_type": "code",
      "metadata": {
        "id": "OnMlCt6S5TRO",
        "colab_type": "code",
        "colab": {
          "base_uri": "https://localhost:8080/",
          "height": 34
        },
        "outputId": "1e037a5f-9ddd-438b-bfed-e6c718109474"
      },
      "source": [
        "my_animal"
      ],
      "execution_count": 7,
      "outputs": [
        {
          "output_type": "execute_result",
          "data": {
            "text/plain": [
              "<__main__.Animal at 0x7fcaaa79e518>"
            ]
          },
          "metadata": {
            "tags": []
          },
          "execution_count": 7
        }
      ]
    },
    {
      "cell_type": "code",
      "metadata": {
        "id": "-kgZ89V55la9",
        "colab_type": "code",
        "colab": {
          "base_uri": "https://localhost:8080/",
          "height": 34
        },
        "outputId": "b3038de5-40ba-4909-f2f3-5b84f933f7ca"
      },
      "source": [
        "isinstance(my_animal, Animal)"
      ],
      "execution_count": 8,
      "outputs": [
        {
          "output_type": "execute_result",
          "data": {
            "text/plain": [
              "True"
            ]
          },
          "metadata": {
            "tags": []
          },
          "execution_count": 8
        }
      ]
    },
    {
      "cell_type": "code",
      "metadata": {
        "id": "8O-XvQad5ux1",
        "colab_type": "code",
        "colab": {
          "base_uri": "https://localhost:8080/",
          "height": 459
        },
        "outputId": "373e87f9-bb4b-4dd7-daf4-ddb69d88c26d"
      },
      "source": [
        "# list the dunders for the class - internal Python items\n",
        "dir(my_animal)"
      ],
      "execution_count": 9,
      "outputs": [
        {
          "output_type": "execute_result",
          "data": {
            "text/plain": [
              "['__class__',\n",
              " '__delattr__',\n",
              " '__dict__',\n",
              " '__dir__',\n",
              " '__doc__',\n",
              " '__eq__',\n",
              " '__format__',\n",
              " '__ge__',\n",
              " '__getattribute__',\n",
              " '__gt__',\n",
              " '__hash__',\n",
              " '__init__',\n",
              " '__init_subclass__',\n",
              " '__le__',\n",
              " '__lt__',\n",
              " '__module__',\n",
              " '__ne__',\n",
              " '__new__',\n",
              " '__reduce__',\n",
              " '__reduce_ex__',\n",
              " '__repr__',\n",
              " '__setattr__',\n",
              " '__sizeof__',\n",
              " '__str__',\n",
              " '__subclasshook__',\n",
              " '__weakref__']"
            ]
          },
          "metadata": {
            "tags": []
          },
          "execution_count": 9
        }
      ]
    },
    {
      "cell_type": "code",
      "metadata": {
        "id": "uVLCMVMT6QzF",
        "colab_type": "code",
        "colab": {}
      },
      "source": [
        "# create class with age dimension using the constructor or initializer __init__\n",
        "# self is used for instances of the class\n",
        "# add age variable to class\n",
        "class Animal:\n",
        "  def __init__(self, age):\n",
        "    self.age = age"
      ],
      "execution_count": 0,
      "outputs": []
    },
    {
      "cell_type": "code",
      "metadata": {
        "id": "ASpt4LxT62tY",
        "colab_type": "code",
        "colab": {}
      },
      "source": [
        "my_animal = Animal(age=3)"
      ],
      "execution_count": 0,
      "outputs": []
    },
    {
      "cell_type": "code",
      "metadata": {
        "id": "MzfzuXPf7G64",
        "colab_type": "code",
        "colab": {
          "base_uri": "https://localhost:8080/",
          "height": 34
        },
        "outputId": "fff8f99f-a9d0-49f6-ebef-32bda31848d3"
      },
      "source": [
        "my_animal.age"
      ],
      "execution_count": 17,
      "outputs": [
        {
          "output_type": "execute_result",
          "data": {
            "text/plain": [
              "3"
            ]
          },
          "metadata": {
            "tags": []
          },
          "execution_count": 17
        }
      ]
    },
    {
      "cell_type": "code",
      "metadata": {
        "id": "k8sdzdxZ7bxu",
        "colab_type": "code",
        "colab": {
          "base_uri": "https://localhost:8080/",
          "height": 476
        },
        "outputId": "d292be16-5d56-459a-8b37-71a608eb2759"
      },
      "source": [
        "# notice age variable\n",
        "dir(my_animal)"
      ],
      "execution_count": 18,
      "outputs": [
        {
          "output_type": "execute_result",
          "data": {
            "text/plain": [
              "['__class__',\n",
              " '__delattr__',\n",
              " '__dict__',\n",
              " '__dir__',\n",
              " '__doc__',\n",
              " '__eq__',\n",
              " '__format__',\n",
              " '__ge__',\n",
              " '__getattribute__',\n",
              " '__gt__',\n",
              " '__hash__',\n",
              " '__init__',\n",
              " '__init_subclass__',\n",
              " '__le__',\n",
              " '__lt__',\n",
              " '__module__',\n",
              " '__ne__',\n",
              " '__new__',\n",
              " '__reduce__',\n",
              " '__reduce_ex__',\n",
              " '__repr__',\n",
              " '__setattr__',\n",
              " '__sizeof__',\n",
              " '__str__',\n",
              " '__subclasshook__',\n",
              " '__weakref__',\n",
              " 'age']"
            ]
          },
          "metadata": {
            "tags": []
          },
          "execution_count": 18
        }
      ]
    },
    {
      "cell_type": "markdown",
      "metadata": {
        "id": "oHAByzUm8fxW",
        "colab_type": "text"
      },
      "source": [
        "### Dunder or Magic Methods - __str__ and __repr__ (Strings and Representations)"
      ]
    },
    {
      "cell_type": "code",
      "metadata": {
        "id": "Owk7ZLoE78ch",
        "colab_type": "code",
        "colab": {}
      },
      "source": [
        "class Animal:\n",
        "  def __init__(self, age):\n",
        "    self.age = age\n",
        "\n",
        "  # __repr__ for developers\n",
        "  def __repr__(self):\n",
        "    return f'Animal(age={self.age})'\n",
        "\n",
        "  # __str__ for users\n",
        "  def __str__(self):\n",
        "    return f\"This is an animal that's {self.age} years old\""
      ],
      "execution_count": 0,
      "outputs": []
    },
    {
      "cell_type": "code",
      "metadata": {
        "id": "7PiCSgU698jb",
        "colab_type": "code",
        "colab": {}
      },
      "source": [
        "my_animal = Animal(3)"
      ],
      "execution_count": 0,
      "outputs": []
    },
    {
      "cell_type": "code",
      "metadata": {
        "id": "_HzeFL6U-Bn_",
        "colab_type": "code",
        "colab": {
          "base_uri": "https://localhost:8080/",
          "height": 34
        },
        "outputId": "57e88ae8-674d-4cec-d823-2210a8ff3c4a"
      },
      "source": [
        "my_animal"
      ],
      "execution_count": 33,
      "outputs": [
        {
          "output_type": "execute_result",
          "data": {
            "text/plain": [
              "Animal(age=3)"
            ]
          },
          "metadata": {
            "tags": []
          },
          "execution_count": 33
        }
      ]
    },
    {
      "cell_type": "code",
      "metadata": {
        "id": "YzbX8-w1-IGd",
        "colab_type": "code",
        "colab": {
          "base_uri": "https://localhost:8080/",
          "height": 34
        },
        "outputId": "04241529-dad8-4e8c-953a-1045028f09b6"
      },
      "source": [
        "str(my_animal)"
      ],
      "execution_count": 34,
      "outputs": [
        {
          "output_type": "execute_result",
          "data": {
            "text/plain": [
              "\"This is an animal that's 3 years old\""
            ]
          },
          "metadata": {
            "tags": []
          },
          "execution_count": 34
        }
      ]
    },
    {
      "cell_type": "code",
      "metadata": {
        "id": "mrTThRAy_L0_",
        "colab_type": "code",
        "colab": {}
      },
      "source": [
        "class Animal:\n",
        "  def __init__(self, age):\n",
        "    self.age = age\n",
        "\n",
        "  # __repr__ for developers\n",
        "  def __repr__(self):\n",
        "    return f'Animal(age={self.age})'\n",
        "\n",
        "  # __str__ for users\n",
        "  def __str__(self):\n",
        "    return f\"This is an animal that's {self.age} years old\"\n",
        "\n",
        "  def age_next_year(self):\n",
        "    return self.age + 1"
      ],
      "execution_count": 0,
      "outputs": []
    },
    {
      "cell_type": "code",
      "metadata": {
        "id": "-N17v3TD_dFm",
        "colab_type": "code",
        "colab": {
          "base_uri": "https://localhost:8080/",
          "height": 34
        },
        "outputId": "974bc1fd-2136-40e2-8b10-392c1a13d488"
      },
      "source": [
        "my_animal = Animal(5)\n",
        "my_animal"
      ],
      "execution_count": 39,
      "outputs": [
        {
          "output_type": "execute_result",
          "data": {
            "text/plain": [
              "Animal(age=5)"
            ]
          },
          "metadata": {
            "tags": []
          },
          "execution_count": 39
        }
      ]
    },
    {
      "cell_type": "code",
      "metadata": {
        "id": "259wyu_N_izD",
        "colab_type": "code",
        "colab": {
          "base_uri": "https://localhost:8080/",
          "height": 34
        },
        "outputId": "2b67ab2d-1a32-4681-e28e-71b1725f570f"
      },
      "source": [
        "my_animal.age_next_year()"
      ],
      "execution_count": 40,
      "outputs": [
        {
          "output_type": "execute_result",
          "data": {
            "text/plain": [
              "6"
            ]
          },
          "metadata": {
            "tags": []
          },
          "execution_count": 40
        }
      ]
    },
    {
      "cell_type": "code",
      "metadata": {
        "id": "lz5dRbIh_4Fj",
        "colab_type": "code",
        "colab": {}
      },
      "source": [
        "class Animal:\n",
        "  def __init__(self, age):\n",
        "    self.age = age\n",
        "\n",
        "  # __repr__ for developers\n",
        "  def __repr__(self):\n",
        "    return f'Animal(age={self.age})'\n",
        "\n",
        "  # __str__ for users\n",
        "  def __str__(self):\n",
        "    return f\"This is an animal that's {self.age} years old\"\n",
        "\n",
        "  def age_next_year(self):\n",
        "    return self.age + 1\n",
        "\n",
        "  def add_one_year(self):\n",
        "    self.age = self.age + 1"
      ],
      "execution_count": 0,
      "outputs": []
    },
    {
      "cell_type": "code",
      "metadata": {
        "id": "ibNzF8ZrAGzu",
        "colab_type": "code",
        "colab": {}
      },
      "source": [
        "my_animal = Animal(5)"
      ],
      "execution_count": 0,
      "outputs": []
    },
    {
      "cell_type": "code",
      "metadata": {
        "id": "wZFwwPC7AKyx",
        "colab_type": "code",
        "colab": {
          "base_uri": "https://localhost:8080/",
          "height": 34
        },
        "outputId": "6c320249-318c-4fc1-a4b5-dc222ff7e86d"
      },
      "source": [
        "my_animal.age"
      ],
      "execution_count": 45,
      "outputs": [
        {
          "output_type": "execute_result",
          "data": {
            "text/plain": [
              "5"
            ]
          },
          "metadata": {
            "tags": []
          },
          "execution_count": 45
        }
      ]
    },
    {
      "cell_type": "code",
      "metadata": {
        "id": "-sgpuD6qAesT",
        "colab_type": "code",
        "colab": {}
      },
      "source": [
        "my_animal.add_one_year()"
      ],
      "execution_count": 0,
      "outputs": []
    },
    {
      "cell_type": "code",
      "metadata": {
        "id": "nt5tNXHmAjZN",
        "colab_type": "code",
        "colab": {
          "base_uri": "https://localhost:8080/",
          "height": 34
        },
        "outputId": "c8381304-57dc-4510-cafb-820a1954e520"
      },
      "source": [
        "my_animal.age"
      ],
      "execution_count": 47,
      "outputs": [
        {
          "output_type": "execute_result",
          "data": {
            "text/plain": [
              "6"
            ]
          },
          "metadata": {
            "tags": []
          },
          "execution_count": 47
        }
      ]
    }
  ]
}