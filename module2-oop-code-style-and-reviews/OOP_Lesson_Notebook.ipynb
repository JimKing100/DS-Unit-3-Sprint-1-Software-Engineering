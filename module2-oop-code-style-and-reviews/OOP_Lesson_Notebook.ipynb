{
  "nbformat": 4,
  "nbformat_minor": 0,
  "metadata": {
    "colab": {
      "name": "Untitled37.ipynb",
      "provenance": [],
      "include_colab_link": true
    },
    "kernelspec": {
      "name": "python3",
      "display_name": "Python 3"
    }
  },
  "cells": [
    {
      "cell_type": "markdown",
      "metadata": {
        "id": "view-in-github",
        "colab_type": "text"
      },
      "source": [
        "<a href=\"https://colab.research.google.com/github/JimKing100/DS-Unit-3-Sprint-1-Software-Engineering/blob/master/module2-oop-code-style-and-reviews/OOP_Lesson_Notebook.ipynb\" target=\"_parent\"><img src=\"https://colab.research.google.com/assets/colab-badge.svg\" alt=\"Open In Colab\"/></a>"
      ]
    },
    {
      "cell_type": "markdown",
      "metadata": {
        "id": "ffBCOaCC4kj3",
        "colab_type": "text"
      },
      "source": [
        "### Everything in Python is an Object"
      ]
    },
    {
      "cell_type": "code",
      "metadata": {
        "id": "Gfz1qYXn382l",
        "colab_type": "code",
        "colab": {
          "base_uri": "https://localhost:8080/",
          "height": 34
        },
        "outputId": "d5658b06-ddd0-4aac-c9e8-029466fb8eaa"
      },
      "source": [
        "isinstance(1, object)"
      ],
      "execution_count": 1,
      "outputs": [
        {
          "output_type": "execute_result",
          "data": {
            "text/plain": [
              "True"
            ]
          },
          "metadata": {
            "tags": []
          },
          "execution_count": 1
        }
      ]
    },
    {
      "cell_type": "code",
      "metadata": {
        "id": "8rUuXPUT4Mit",
        "colab_type": "code",
        "colab": {
          "base_uri": "https://localhost:8080/",
          "height": 34
        },
        "outputId": "e52a7c71-1575-45e2-a771-e3d2943efbc3"
      },
      "source": [
        "isinstance('my_str', object)"
      ],
      "execution_count": 2,
      "outputs": [
        {
          "output_type": "execute_result",
          "data": {
            "text/plain": [
              "True"
            ]
          },
          "metadata": {
            "tags": []
          },
          "execution_count": 2
        }
      ]
    },
    {
      "cell_type": "code",
      "metadata": {
        "id": "CpR_S_si4UVX",
        "colab_type": "code",
        "colab": {}
      },
      "source": [
        "def add(a, b):\n",
        "  return a+b"
      ],
      "execution_count": 0,
      "outputs": []
    },
    {
      "cell_type": "code",
      "metadata": {
        "id": "0JfTXL4N4bu6",
        "colab_type": "code",
        "colab": {
          "base_uri": "https://localhost:8080/",
          "height": 34
        },
        "outputId": "1231d714-a24f-48a7-a7ce-02589d0f4011"
      },
      "source": [
        "isinstance(add, object)"
      ],
      "execution_count": 4,
      "outputs": [
        {
          "output_type": "execute_result",
          "data": {
            "text/plain": [
              "True"
            ]
          },
          "metadata": {
            "tags": []
          },
          "execution_count": 4
        }
      ]
    },
    {
      "cell_type": "markdown",
      "metadata": {
        "id": "fHPaezL54rXS",
        "colab_type": "text"
      },
      "source": [
        "### Build an Object Using Class"
      ]
    },
    {
      "cell_type": "code",
      "metadata": {
        "id": "8sibhmqD4wE7",
        "colab_type": "code",
        "colab": {}
      },
      "source": [
        "# create a class\n",
        "class Animal:\n",
        "  pass"
      ],
      "execution_count": 0,
      "outputs": []
    },
    {
      "cell_type": "code",
      "metadata": {
        "id": "ehV-0pGD5M3e",
        "colab_type": "code",
        "colab": {}
      },
      "source": [
        "# create an instance of the class\n",
        "my_animal = Animal()"
      ],
      "execution_count": 0,
      "outputs": []
    },
    {
      "cell_type": "code",
      "metadata": {
        "id": "OnMlCt6S5TRO",
        "colab_type": "code",
        "colab": {
          "base_uri": "https://localhost:8080/",
          "height": 34
        },
        "outputId": "1e037a5f-9ddd-438b-bfed-e6c718109474"
      },
      "source": [
        "my_animal"
      ],
      "execution_count": 7,
      "outputs": [
        {
          "output_type": "execute_result",
          "data": {
            "text/plain": [
              "<__main__.Animal at 0x7fcaaa79e518>"
            ]
          },
          "metadata": {
            "tags": []
          },
          "execution_count": 7
        }
      ]
    },
    {
      "cell_type": "code",
      "metadata": {
        "id": "-kgZ89V55la9",
        "colab_type": "code",
        "colab": {
          "base_uri": "https://localhost:8080/",
          "height": 34
        },
        "outputId": "b3038de5-40ba-4909-f2f3-5b84f933f7ca"
      },
      "source": [
        "isinstance(my_animal, Animal)"
      ],
      "execution_count": 8,
      "outputs": [
        {
          "output_type": "execute_result",
          "data": {
            "text/plain": [
              "True"
            ]
          },
          "metadata": {
            "tags": []
          },
          "execution_count": 8
        }
      ]
    },
    {
      "cell_type": "code",
      "metadata": {
        "id": "8O-XvQad5ux1",
        "colab_type": "code",
        "colab": {
          "base_uri": "https://localhost:8080/",
          "height": 459
        },
        "outputId": "373e87f9-bb4b-4dd7-daf4-ddb69d88c26d"
      },
      "source": [
        "# list the dunders for the class - internal Python items\n",
        "dir(my_animal)"
      ],
      "execution_count": 9,
      "outputs": [
        {
          "output_type": "execute_result",
          "data": {
            "text/plain": [
              "['__class__',\n",
              " '__delattr__',\n",
              " '__dict__',\n",
              " '__dir__',\n",
              " '__doc__',\n",
              " '__eq__',\n",
              " '__format__',\n",
              " '__ge__',\n",
              " '__getattribute__',\n",
              " '__gt__',\n",
              " '__hash__',\n",
              " '__init__',\n",
              " '__init_subclass__',\n",
              " '__le__',\n",
              " '__lt__',\n",
              " '__module__',\n",
              " '__ne__',\n",
              " '__new__',\n",
              " '__reduce__',\n",
              " '__reduce_ex__',\n",
              " '__repr__',\n",
              " '__setattr__',\n",
              " '__sizeof__',\n",
              " '__str__',\n",
              " '__subclasshook__',\n",
              " '__weakref__']"
            ]
          },
          "metadata": {
            "tags": []
          },
          "execution_count": 9
        }
      ]
    },
    {
      "cell_type": "code",
      "metadata": {
        "id": "uVLCMVMT6QzF",
        "colab_type": "code",
        "colab": {}
      },
      "source": [
        "# create class with age dimension using the constructor or initializer __init__\n",
        "# self is used for instances of the class\n",
        "# add age variable to class\n",
        "class Animal:\n",
        "  def __init__(self, age):\n",
        "    self.age = age"
      ],
      "execution_count": 0,
      "outputs": []
    },
    {
      "cell_type": "code",
      "metadata": {
        "id": "ASpt4LxT62tY",
        "colab_type": "code",
        "colab": {}
      },
      "source": [
        "my_animal = Animal(age=3)"
      ],
      "execution_count": 0,
      "outputs": []
    },
    {
      "cell_type": "code",
      "metadata": {
        "id": "MzfzuXPf7G64",
        "colab_type": "code",
        "colab": {
          "base_uri": "https://localhost:8080/",
          "height": 34
        },
        "outputId": "fff8f99f-a9d0-49f6-ebef-32bda31848d3"
      },
      "source": [
        "my_animal.age"
      ],
      "execution_count": 17,
      "outputs": [
        {
          "output_type": "execute_result",
          "data": {
            "text/plain": [
              "3"
            ]
          },
          "metadata": {
            "tags": []
          },
          "execution_count": 17
        }
      ]
    },
    {
      "cell_type": "code",
      "metadata": {
        "id": "k8sdzdxZ7bxu",
        "colab_type": "code",
        "colab": {
          "base_uri": "https://localhost:8080/",
          "height": 476
        },
        "outputId": "d292be16-5d56-459a-8b37-71a608eb2759"
      },
      "source": [
        "# notice age variable\n",
        "dir(my_animal)"
      ],
      "execution_count": 18,
      "outputs": [
        {
          "output_type": "execute_result",
          "data": {
            "text/plain": [
              "['__class__',\n",
              " '__delattr__',\n",
              " '__dict__',\n",
              " '__dir__',\n",
              " '__doc__',\n",
              " '__eq__',\n",
              " '__format__',\n",
              " '__ge__',\n",
              " '__getattribute__',\n",
              " '__gt__',\n",
              " '__hash__',\n",
              " '__init__',\n",
              " '__init_subclass__',\n",
              " '__le__',\n",
              " '__lt__',\n",
              " '__module__',\n",
              " '__ne__',\n",
              " '__new__',\n",
              " '__reduce__',\n",
              " '__reduce_ex__',\n",
              " '__repr__',\n",
              " '__setattr__',\n",
              " '__sizeof__',\n",
              " '__str__',\n",
              " '__subclasshook__',\n",
              " '__weakref__',\n",
              " 'age']"
            ]
          },
          "metadata": {
            "tags": []
          },
          "execution_count": 18
        }
      ]
    },
    {
      "cell_type": "markdown",
      "metadata": {
        "id": "oHAByzUm8fxW",
        "colab_type": "text"
      },
      "source": [
        "### Dunder or Magic Methods - __str__ and __repr__ (Strings and Representations)"
      ]
    },
    {
      "cell_type": "code",
      "metadata": {
        "id": "Owk7ZLoE78ch",
        "colab_type": "code",
        "colab": {}
      },
      "source": [
        "class Animal:\n",
        "  def __init__(self, age):\n",
        "    self.age = age\n",
        "\n",
        "  # __repr__ for developers\n",
        "  def __repr__(self):\n",
        "    return f'Animal(age={self.age})'\n",
        "\n",
        "  # __str__ for users\n",
        "  def __str__(self):\n",
        "    return f\"This is an animal that's {self.age} years old\""
      ],
      "execution_count": 0,
      "outputs": []
    },
    {
      "cell_type": "code",
      "metadata": {
        "id": "7PiCSgU698jb",
        "colab_type": "code",
        "colab": {}
      },
      "source": [
        "my_animal = Animal(3)"
      ],
      "execution_count": 0,
      "outputs": []
    },
    {
      "cell_type": "code",
      "metadata": {
        "id": "_HzeFL6U-Bn_",
        "colab_type": "code",
        "colab": {
          "base_uri": "https://localhost:8080/",
          "height": 34
        },
        "outputId": "57e88ae8-674d-4cec-d823-2210a8ff3c4a"
      },
      "source": [
        "my_animal"
      ],
      "execution_count": 33,
      "outputs": [
        {
          "output_type": "execute_result",
          "data": {
            "text/plain": [
              "Animal(age=3)"
            ]
          },
          "metadata": {
            "tags": []
          },
          "execution_count": 33
        }
      ]
    },
    {
      "cell_type": "code",
      "metadata": {
        "id": "YzbX8-w1-IGd",
        "colab_type": "code",
        "colab": {
          "base_uri": "https://localhost:8080/",
          "height": 34
        },
        "outputId": "04241529-dad8-4e8c-953a-1045028f09b6"
      },
      "source": [
        "str(my_animal)"
      ],
      "execution_count": 34,
      "outputs": [
        {
          "output_type": "execute_result",
          "data": {
            "text/plain": [
              "\"This is an animal that's 3 years old\""
            ]
          },
          "metadata": {
            "tags": []
          },
          "execution_count": 34
        }
      ]
    },
    {
      "cell_type": "code",
      "metadata": {
        "id": "mrTThRAy_L0_",
        "colab_type": "code",
        "colab": {}
      },
      "source": [
        "class Animal:\n",
        "  def __init__(self, age):\n",
        "    self.age = age\n",
        "\n",
        "  # __repr__ for developers\n",
        "  def __repr__(self):\n",
        "    return f'Animal(age={self.age})'\n",
        "\n",
        "  # __str__ for users\n",
        "  def __str__(self):\n",
        "    return f\"This is an animal that's {self.age} years old\"\n",
        "\n",
        "  def age_next_year(self):\n",
        "    return self.age + 1"
      ],
      "execution_count": 0,
      "outputs": []
    },
    {
      "cell_type": "code",
      "metadata": {
        "id": "-N17v3TD_dFm",
        "colab_type": "code",
        "colab": {
          "base_uri": "https://localhost:8080/",
          "height": 34
        },
        "outputId": "974bc1fd-2136-40e2-8b10-392c1a13d488"
      },
      "source": [
        "my_animal = Animal(5)\n",
        "my_animal"
      ],
      "execution_count": 39,
      "outputs": [
        {
          "output_type": "execute_result",
          "data": {
            "text/plain": [
              "Animal(age=5)"
            ]
          },
          "metadata": {
            "tags": []
          },
          "execution_count": 39
        }
      ]
    },
    {
      "cell_type": "code",
      "metadata": {
        "id": "259wyu_N_izD",
        "colab_type": "code",
        "colab": {
          "base_uri": "https://localhost:8080/",
          "height": 34
        },
        "outputId": "2b67ab2d-1a32-4681-e28e-71b1725f570f"
      },
      "source": [
        "my_animal.age_next_year()"
      ],
      "execution_count": 40,
      "outputs": [
        {
          "output_type": "execute_result",
          "data": {
            "text/plain": [
              "6"
            ]
          },
          "metadata": {
            "tags": []
          },
          "execution_count": 40
        }
      ]
    },
    {
      "cell_type": "code",
      "metadata": {
        "id": "lz5dRbIh_4Fj",
        "colab_type": "code",
        "colab": {}
      },
      "source": [
        "class Animal:\n",
        "  def __init__(self, age):\n",
        "    self.age = age\n",
        "\n",
        "  # __repr__ for developers\n",
        "  def __repr__(self):\n",
        "    return f'Animal(age={self.age})'\n",
        "\n",
        "  # __str__ for users\n",
        "  def __str__(self):\n",
        "    return f\"This is an animal that's {self.age} years old\"\n",
        "\n",
        "  def age_next_year(self):\n",
        "    return self.age + 1\n",
        "\n",
        "  def add_one_year(self):\n",
        "    self.age = self.age + 1"
      ],
      "execution_count": 0,
      "outputs": []
    },
    {
      "cell_type": "code",
      "metadata": {
        "id": "ibNzF8ZrAGzu",
        "colab_type": "code",
        "colab": {}
      },
      "source": [
        "my_animal = Animal(5)"
      ],
      "execution_count": 0,
      "outputs": []
    },
    {
      "cell_type": "code",
      "metadata": {
        "id": "wZFwwPC7AKyx",
        "colab_type": "code",
        "colab": {
          "base_uri": "https://localhost:8080/",
          "height": 34
        },
        "outputId": "6c320249-318c-4fc1-a4b5-dc222ff7e86d"
      },
      "source": [
        "my_animal.age"
      ],
      "execution_count": 45,
      "outputs": [
        {
          "output_type": "execute_result",
          "data": {
            "text/plain": [
              "5"
            ]
          },
          "metadata": {
            "tags": []
          },
          "execution_count": 45
        }
      ]
    },
    {
      "cell_type": "code",
      "metadata": {
        "id": "-sgpuD6qAesT",
        "colab_type": "code",
        "colab": {}
      },
      "source": [
        "my_animal.add_one_year()"
      ],
      "execution_count": 0,
      "outputs": []
    },
    {
      "cell_type": "code",
      "metadata": {
        "id": "nt5tNXHmAjZN",
        "colab_type": "code",
        "colab": {
          "base_uri": "https://localhost:8080/",
          "height": 34
        },
        "outputId": "c8381304-57dc-4510-cafb-820a1954e520"
      },
      "source": [
        "my_animal.age"
      ],
      "execution_count": 47,
      "outputs": [
        {
          "output_type": "execute_result",
          "data": {
            "text/plain": [
              "6"
            ]
          },
          "metadata": {
            "tags": []
          },
          "execution_count": 47
        }
      ]
    },
    {
      "cell_type": "markdown",
      "metadata": {
        "id": "JDqiClkBC61d",
        "colab_type": "text"
      },
      "source": [
        "### Create get_weight - Only Set's Weight on Call of Method"
      ]
    },
    {
      "cell_type": "code",
      "metadata": {
        "id": "uuJu7G9LBU7c",
        "colab_type": "code",
        "colab": {}
      },
      "source": [
        "class Animal:\n",
        "  def __init__(self, age):\n",
        "    self.age = age\n",
        "\n",
        "  # __repr__ for developers\n",
        "  def __repr__(self):\n",
        "    return f'Animal(age={self.age})'\n",
        "\n",
        "  # __str__ for users\n",
        "  def __str__(self):\n",
        "    return f\"This is an animal that's {self.age} years old\"\n",
        "\n",
        "  def age_next_year(self):\n",
        "    return self.age + 1\n",
        "\n",
        "  def add_one_year(self):\n",
        "    self.age = self.age + 1\n",
        "\n",
        "  def get_weight(self):\n",
        "    self.weight = 10"
      ],
      "execution_count": 0,
      "outputs": []
    },
    {
      "cell_type": "code",
      "metadata": {
        "id": "rdJ5-3WsBkeB",
        "colab_type": "code",
        "colab": {}
      },
      "source": [
        "my_animal = Animal(10)"
      ],
      "execution_count": 0,
      "outputs": []
    },
    {
      "cell_type": "code",
      "metadata": {
        "id": "TemOt8R9BrP1",
        "colab_type": "code",
        "colab": {}
      },
      "source": [
        "my_animal.get_weight()"
      ],
      "execution_count": 0,
      "outputs": []
    },
    {
      "cell_type": "code",
      "metadata": {
        "id": "PILm9mBRBwVY",
        "colab_type": "code",
        "colab": {
          "base_uri": "https://localhost:8080/",
          "height": 34
        },
        "outputId": "01d37009-db8d-48c2-8dcf-eb5234caed33"
      },
      "source": [
        "my_animal.weight"
      ],
      "execution_count": 51,
      "outputs": [
        {
          "output_type": "execute_result",
          "data": {
            "text/plain": [
              "10"
            ]
          },
          "metadata": {
            "tags": []
          },
          "execution_count": 51
        }
      ]
    },
    {
      "cell_type": "markdown",
      "metadata": {
        "id": "5VKPi4XfCWXV",
        "colab_type": "text"
      },
      "source": [
        "### KMean Example - inertia only calculated after fit\n",
        "\n",
        "kmeans = KMean(K=3)\n",
        "\n",
        "kmeans.fit(data)\n",
        "\n",
        "kmeans.inertia_"
      ]
    },
    {
      "cell_type": "markdown",
      "metadata": {
        "id": "spGTuGm6DJmh",
        "colab_type": "text"
      },
      "source": [
        "### Inheritence - Core OOP Principle"
      ]
    },
    {
      "cell_type": "code",
      "metadata": {
        "id": "xLxcF7VpCFcf",
        "colab_type": "code",
        "colab": {}
      },
      "source": [
        "class Animal:\n",
        "  # constructor\n",
        "  def __init__(self, age):\n",
        "    self.age = age\n",
        "\n",
        "  # __repr__ for developers\n",
        "  def __repr__(self):\n",
        "    return f'Animal(age={self.age})'\n",
        "\n",
        "  # __str__ for users\n",
        "  def __str__(self):\n",
        "    return f\"This is an animal that's {self.age} years old\"\n",
        "\n",
        "  def age_next_year(self):\n",
        "    return self.age + 1\n",
        "\n",
        "  def add_one_year(self):\n",
        "    self.age = self.age + 1"
      ],
      "execution_count": 0,
      "outputs": []
    },
    {
      "cell_type": "code",
      "metadata": {
        "id": "vUSEBfPLDf48",
        "colab_type": "code",
        "colab": {}
      },
      "source": [
        "class Dog(Animal):\n",
        "  num_legs = 4\n",
        "  def __repr__(self):\n",
        "    return f'Dog(age={self.age})'\n",
        "\n",
        "  def __str__(self):\n",
        "    return f\"This is a dog that's {self.age} old\"\n",
        "\n",
        "  def bark(self):\n",
        "    print('woof-woof')\n",
        "\n",
        "class Fish(Animal):\n",
        "\n",
        "  def __repr__(self):\n",
        "    return f'Fish(age={self.age})'\n",
        "\n",
        "  def __str__(self):\n",
        "    return f\"This is a fish that's {self.age} old\"\n",
        "\n",
        "  def swim(self):\n",
        "    print('swimming')\n",
        "    "
      ],
      "execution_count": 0,
      "outputs": []
    },
    {
      "cell_type": "code",
      "metadata": {
        "id": "nAntqqE3IfWa",
        "colab_type": "code",
        "colab": {
          "base_uri": "https://localhost:8080/",
          "height": 34
        },
        "outputId": "962937dd-a751-4c36-b327-d827d23a6c4d"
      },
      "source": [
        "my_dog = Dog(5)\n",
        "my_dog"
      ],
      "execution_count": 57,
      "outputs": [
        {
          "output_type": "execute_result",
          "data": {
            "text/plain": [
              "Dog(age=5)"
            ]
          },
          "metadata": {
            "tags": []
          },
          "execution_count": 57
        }
      ]
    },
    {
      "cell_type": "code",
      "metadata": {
        "id": "cWtjadzaL-Df",
        "colab_type": "code",
        "colab": {
          "base_uri": "https://localhost:8080/",
          "height": 34
        },
        "outputId": "df51ca51-3648-42df-d65e-9aef95368602"
      },
      "source": [
        "str(my_dog)"
      ],
      "execution_count": 58,
      "outputs": [
        {
          "output_type": "execute_result",
          "data": {
            "text/plain": [
              "\"This is a dog that's 5 old\""
            ]
          },
          "metadata": {
            "tags": []
          },
          "execution_count": 58
        }
      ]
    },
    {
      "cell_type": "code",
      "metadata": {
        "id": "rodN34XYMj0T",
        "colab_type": "code",
        "colab": {
          "base_uri": "https://localhost:8080/",
          "height": 34
        },
        "outputId": "6ebbb00e-9de8-4c73-830a-40391ab736cf"
      },
      "source": [
        "my_fish = Fish(2)\n",
        "my_fish"
      ],
      "execution_count": 59,
      "outputs": [
        {
          "output_type": "execute_result",
          "data": {
            "text/plain": [
              "Fish(age=2)"
            ]
          },
          "metadata": {
            "tags": []
          },
          "execution_count": 59
        }
      ]
    },
    {
      "cell_type": "code",
      "metadata": {
        "id": "XOamEFbvMrID",
        "colab_type": "code",
        "colab": {
          "base_uri": "https://localhost:8080/",
          "height": 34
        },
        "outputId": "d09c4c1a-79f7-4ac2-8b45-ec873dcf7ade"
      },
      "source": [
        "str(my_fish)"
      ],
      "execution_count": 60,
      "outputs": [
        {
          "output_type": "execute_result",
          "data": {
            "text/plain": [
              "\"This is a fish that's 2 old\""
            ]
          },
          "metadata": {
            "tags": []
          },
          "execution_count": 60
        }
      ]
    },
    {
      "cell_type": "code",
      "metadata": {
        "id": "CUTSBL_VNFVX",
        "colab_type": "code",
        "colab": {}
      },
      "source": [
        "class Dog(Animal):\n",
        "  num_legs = 4\n",
        "  def __repr__(self):\n",
        "    return f'Dog(age={self.age})'\n",
        "\n",
        "  def __str__(self):\n",
        "    return f\"This is a dog that's {self.age} old\"\n",
        "\n",
        "  def bark(self):\n",
        "    print('woof-woof')\n",
        "\n",
        "  def is_puppy(self):\n",
        "    if self.age <= 1:\n",
        "      return True\n",
        "    else:\n",
        "      return False\n",
        "      "
      ],
      "execution_count": 0,
      "outputs": []
    },
    {
      "cell_type": "code",
      "metadata": {
        "id": "FnRIMdoNNV-w",
        "colab_type": "code",
        "colab": {}
      },
      "source": [
        "my_dog = Dog(0.5)"
      ],
      "execution_count": 0,
      "outputs": []
    },
    {
      "cell_type": "code",
      "metadata": {
        "id": "1hZXkm-cNaZl",
        "colab_type": "code",
        "colab": {
          "base_uri": "https://localhost:8080/",
          "height": 34
        },
        "outputId": "5b0d294f-fe2a-414e-9d42-20e8a2e8a13d"
      },
      "source": [
        "my_dog.is_puppy()"
      ],
      "execution_count": 63,
      "outputs": [
        {
          "output_type": "execute_result",
          "data": {
            "text/plain": [
              "True"
            ]
          },
          "metadata": {
            "tags": []
          },
          "execution_count": 63
        }
      ]
    },
    {
      "cell_type": "code",
      "metadata": {
        "id": "kL80-ksKNfBD",
        "colab_type": "code",
        "colab": {}
      },
      "source": [
        "my_dog.add_one_year()"
      ],
      "execution_count": 0,
      "outputs": []
    },
    {
      "cell_type": "code",
      "metadata": {
        "id": "88xhnqc2NjAX",
        "colab_type": "code",
        "colab": {
          "base_uri": "https://localhost:8080/",
          "height": 34
        },
        "outputId": "a52c2561-f673-4614-e17f-36d7c4ef2d95"
      },
      "source": [
        "my_dog.is_puppy()"
      ],
      "execution_count": 65,
      "outputs": [
        {
          "output_type": "execute_result",
          "data": {
            "text/plain": [
              "False"
            ]
          },
          "metadata": {
            "tags": []
          },
          "execution_count": 65
        }
      ]
    },
    {
      "cell_type": "code",
      "metadata": {
        "id": "_z5NEc2BNz6m",
        "colab_type": "code",
        "colab": {
          "base_uri": "https://localhost:8080/",
          "height": 34
        },
        "outputId": "bf8e1966-281d-46aa-cff5-be7384e887f5"
      },
      "source": [
        "my_dog.num_legs"
      ],
      "execution_count": 66,
      "outputs": [
        {
          "output_type": "execute_result",
          "data": {
            "text/plain": [
              "4"
            ]
          },
          "metadata": {
            "tags": []
          },
          "execution_count": 66
        }
      ]
    },
    {
      "cell_type": "code",
      "metadata": {
        "id": "f5fTtzYxOLZW",
        "colab_type": "code",
        "colab": {}
      },
      "source": [
        "import datetime\n",
        "\n",
        "class Dog(Animal):\n",
        "  num_legs = 4\n",
        "\n",
        "  # super dunder calls parent class\n",
        "  def __init__(self, age, weight):\n",
        "    super().__init__(age)\n",
        "    self.weight = weight\n",
        "\n",
        "  def bark(self):\n",
        "    print('woof-woof')\n",
        "\n",
        "  def is_puppy(self):\n",
        "    if self.age <= 1:\n",
        "      return True\n",
        "    else:\n",
        "      return False\n",
        "\n",
        "  def eat(self):\n",
        "    self.last_time_fed = datetime.datetime.now()\n",
        "    self.weight = self.weight * 1.01\n",
        "\n",
        "  def get_time_last_fed(self):\n",
        "    time_sec_since_last_time_fed = (datetime.datetime.now() - self.last_time_fed).total_seconds()\n",
        "    return time_sec_since_last_time_fed\n",
        "\n",
        "  def is_hungry(self):\n",
        "    if self.get_time_last_fed() > 10:\n",
        "      return True\n",
        "    else:\n",
        "      return False\n",
        "\n",
        "  def __repr__(self):\n",
        "    return f'Dog(age={self.age}, weight={self.weight})'\n",
        "\n",
        "  def __str__(self):\n",
        "    return f\"This is a dog that's {self.age} old\"\n",
        "  "
      ],
      "execution_count": 0,
      "outputs": []
    },
    {
      "cell_type": "code",
      "metadata": {
        "id": "1CBvX3Ihb5J5",
        "colab_type": "code",
        "colab": {
          "base_uri": "https://localhost:8080/",
          "height": 34
        },
        "outputId": "79471f6b-f3a6-4d84-9809-11e58e2e6b2a"
      },
      "source": [
        "my_dog = Dog(3, 50)\n",
        "my_dog"
      ],
      "execution_count": 84,
      "outputs": [
        {
          "output_type": "execute_result",
          "data": {
            "text/plain": [
              "Dog(age=3, weight=50)"
            ]
          },
          "metadata": {
            "tags": []
          },
          "execution_count": 84
        }
      ]
    },
    {
      "cell_type": "code",
      "metadata": {
        "id": "C52XYH5Wb_jq",
        "colab_type": "code",
        "colab": {}
      },
      "source": [
        "my_dog.eat()"
      ],
      "execution_count": 0,
      "outputs": []
    },
    {
      "cell_type": "code",
      "metadata": {
        "id": "JIt_CmLLcTFf",
        "colab_type": "code",
        "colab": {
          "base_uri": "https://localhost:8080/",
          "height": 34
        },
        "outputId": "4c287abb-0670-41ee-f7ad-bf366f815b65"
      },
      "source": [
        "my_dog.get_time_last_fed()"
      ],
      "execution_count": 95,
      "outputs": [
        {
          "output_type": "execute_result",
          "data": {
            "text/plain": [
              "14.254361"
            ]
          },
          "metadata": {
            "tags": []
          },
          "execution_count": 95
        }
      ]
    },
    {
      "cell_type": "code",
      "metadata": {
        "id": "drpkV2m8cqUE",
        "colab_type": "code",
        "colab": {
          "base_uri": "https://localhost:8080/",
          "height": 34
        },
        "outputId": "76dc2e21-aa7d-4cfb-e50a-21911d5336c6"
      },
      "source": [
        "my_dog.is_hungry()"
      ],
      "execution_count": 96,
      "outputs": [
        {
          "output_type": "execute_result",
          "data": {
            "text/plain": [
              "True"
            ]
          },
          "metadata": {
            "tags": []
          },
          "execution_count": 96
        }
      ]
    },
    {
      "cell_type": "markdown",
      "metadata": {
        "id": "RurMYW72d1GP",
        "colab_type": "text"
      },
      "source": [
        "### Magic Methods"
      ]
    },
    {
      "cell_type": "code",
      "metadata": {
        "id": "7jeVXlA9d_fM",
        "colab_type": "code",
        "colab": {}
      },
      "source": [
        "class Dog(Animal):\n",
        "  num_legs = 4\n",
        "\n",
        "  # super dunder calls parent class\n",
        "  def __init__(self, age, weight):\n",
        "    super().__init__(age)\n",
        "    self.weight = weight\n",
        "\n",
        "  def bark(self):\n",
        "    print('woof-woof')\n",
        "\n",
        "  def is_puppy(self):\n",
        "    if self.age <= 1:\n",
        "      return True\n",
        "    else:\n",
        "      return False\n",
        "\n",
        "  def eat(self):\n",
        "    self.last_time_fed = datetime.datetime.now()\n",
        "    self.weight = self.weight * 1.01\n",
        "\n",
        "  def get_time_last_fed(self):\n",
        "    time_sec_since_last_time_fed = (datetime.datetime.now() - self.last_time_fed).total_seconds()\n",
        "    return time_sec_since_last_time_fed\n",
        "\n",
        "  def is_hungry(self):\n",
        "    if self.get_time_last_fed() > 10:\n",
        "      return True\n",
        "    else:\n",
        "      return False\n",
        "\n",
        "  def __repr__(self):\n",
        "    return f'Dog(age={self.age}, weight={self.weight})'\n",
        "\n",
        "  def __str__(self):\n",
        "    return f\"This is a dog that's {self.age} old\"\n",
        "  \n",
        "  # equal dunder - what does it mean to be equal in this class\n",
        "  def __eq__(self, other):\n",
        "    return (self.age == other.age) and (self.weight == other.weight)\n",
        "\n",
        "  # less than dunder - also infer > than\n",
        "  def __lt__(self, other):\n",
        "    return self.weight < other.weight"
      ],
      "execution_count": 0,
      "outputs": []
    },
    {
      "cell_type": "code",
      "metadata": {
        "id": "TsOXL3sMezY8",
        "colab_type": "code",
        "colab": {}
      },
      "source": [
        "my_dog = Dog(3, 50)\n",
        "my_other_dog = Dog(4, 40)"
      ],
      "execution_count": 0,
      "outputs": []
    },
    {
      "cell_type": "code",
      "metadata": {
        "id": "xdJfZQFpe94b",
        "colab_type": "code",
        "colab": {
          "base_uri": "https://localhost:8080/",
          "height": 34
        },
        "outputId": "78ea8dc8-2ff0-4ffd-b15b-b13384b6d7e1"
      },
      "source": [
        "my_dog == my_other_dog"
      ],
      "execution_count": 103,
      "outputs": [
        {
          "output_type": "execute_result",
          "data": {
            "text/plain": [
              "False"
            ]
          },
          "metadata": {
            "tags": []
          },
          "execution_count": 103
        }
      ]
    },
    {
      "cell_type": "code",
      "metadata": {
        "id": "sNoj3KcQfFe0",
        "colab_type": "code",
        "colab": {
          "base_uri": "https://localhost:8080/",
          "height": 34
        },
        "outputId": "25b3b51a-def7-4fac-c83b-02c0179b4fa5"
      },
      "source": [
        "my_dog > my_other_dog"
      ],
      "execution_count": 105,
      "outputs": [
        {
          "output_type": "execute_result",
          "data": {
            "text/plain": [
              "True"
            ]
          },
          "metadata": {
            "tags": []
          },
          "execution_count": 105
        }
      ]
    }
  ]
}