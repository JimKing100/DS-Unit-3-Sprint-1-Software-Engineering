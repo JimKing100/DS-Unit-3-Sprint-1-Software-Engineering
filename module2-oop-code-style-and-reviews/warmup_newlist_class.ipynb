{
  "nbformat": 4,
  "nbformat_minor": 0,
  "metadata": {
    "colab": {
      "name": "Untitled33.ipynb",
      "provenance": [],
      "include_colab_link": true
    },
    "kernelspec": {
      "name": "python3",
      "display_name": "Python 3"
    }
  },
  "cells": [
    {
      "cell_type": "markdown",
      "metadata": {
        "id": "view-in-github",
        "colab_type": "text"
      },
      "source": [
        "<a href=\"https://colab.research.google.com/github/JimKing100/DS-Unit-3-Sprint-1-Software-Engineering/blob/master/module2-oop-code-style-and-reviews/warmup_newlist_class.ipynb\" target=\"_parent\"><img src=\"https://colab.research.google.com/assets/colab-badge.svg\" alt=\"Open In Colab\"/></a>"
      ]
    },
    {
      "cell_type": "code",
      "metadata": {
        "id": "6D7RVkV1cUsD",
        "colab_type": "code",
        "outputId": "c639a749-47f8-48cc-a300-bcf638e6ea74",
        "colab": {
          "base_uri": "https://localhost:8080/",
          "height": 68
        }
      },
      "source": [
        "# Create a example class to create numeric lists\n",
        "class NewList:\n",
        "    # constructor\n",
        "    def __init__(self, initial_state):\n",
        "      self.data = initial_state\n",
        "\n",
        "    # append method\n",
        "    def append(self, num):\n",
        "      self.data.append(num)\n",
        "\n",
        "    # remove method\n",
        "    def remove(self, num):\n",
        "      self.data.remove(num)\n",
        "\n",
        "my_list = NewList([1,2,3,4,5])\n",
        "print(my_list.data)\n",
        "\n",
        "my_list.append(6)\n",
        "print(my_list.data)\n",
        "\n",
        "my_list.remove(1)\n",
        "print(my_list.data)"
      ],
      "execution_count": 1,
      "outputs": [
        {
          "output_type": "stream",
          "text": [
            "[1, 2, 3, 4, 5]\n",
            "[1, 2, 3, 4, 5, 6]\n",
            "[2, 3, 4, 5, 6]\n"
          ],
          "name": "stdout"
        }
      ]
    }
  ]
}